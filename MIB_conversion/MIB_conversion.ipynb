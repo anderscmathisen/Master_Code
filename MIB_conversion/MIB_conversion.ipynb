{
 "cells": [
  {
   "attachments": {},
   "cell_type": "markdown",
   "id": "0514caec",
   "metadata": {},
   "source": [
    "## This Jupyter Notebook is used to convert raw .mib SPED files from to the more practical .hspy file format "
   ]
  },
  {
   "cell_type": "code",
   "execution_count": null,
   "id": "fce0646b",
   "metadata": {},
   "outputs": [],
   "source": [
    "%matplotlib qt\n",
    "import hyperspy.api as hs\n",
    "import pyxem as pxm\n",
    "from pathlib import Path\n",
    "from math import atan, sqrt\n",
    "import os"
   ]
  },
  {
   "cell_type": "code",
   "execution_count": null,
   "id": "8b4338a2",
   "metadata": {},
   "outputs": [],
   "source": [
    "def wavelength(V, \n",
    "            m0=9.1093837015*1e-31, \n",
    "            e=1.60217662*1e-19, \n",
    "            h=6.62607004*1e-34 , \n",
    "            c=299792458):\n",
    "    \"\"\"\n",
    "    Return the wavelength of an accelerated electron in [Å]\n",
    "    \n",
    "    Arguments\n",
    "    ---------\n",
    "    V : float, Acceleration voltage of electrons [kV]\n",
    "    m0 : float, Rest mass of electron [kg]\n",
    "    e : float, Elementary charge of electron [C]\n",
    "    h : float, Planck' constant [m^2 kg/s]\n",
    "    c : float, Speed of light in vacuum [m/s]\n",
    "    \"\"\"\n",
    "    V = V*1E3\n",
    "    return h / sqrt( 2 * m0 * e * V * ( 1.0 + ( e*V / ( 2*m0*c**2 ) ) ) ) * 1E10\n",
    "\n",
    "def load_hdr(filename):\n",
    "        \"\"\"load a header file\"\"\"\n",
    "        filename=Path(filename)\n",
    "        hdr_content = dict()\n",
    "        if filename.exists() and filename.suffix == '.hdr':\n",
    "            with filename.open('r') as hdrfile:\n",
    "                lines = hdrfile.readlines()\n",
    "                for lineno, line in enumerate(lines):\n",
    "                    if 0 < lineno < len(lines)-1:\n",
    "                        field, value = line.split(':', maxsplit=1)\n",
    "                        field = field.strip()\n",
    "                        value = value.strip()\n",
    "                        hdr_content[field] = value\n",
    "        else:\n",
    "            raise FileNotFoundError(f'HDR file \"{filename.absolute()}\" \\\n",
    "                                    does not exist or is not a valid .hdr file.')\n",
    "        return hdr_content"
   ]
  },
  {
   "cell_type": "code",
   "execution_count": null,
   "id": "0db4436a",
   "metadata": {},
   "outputs": [],
   "source": [
    "data_path = Path('Path_to_your/file.mib')\n",
    "beam_energy = 200 #Beam energy in keV\n",
    "cameralength = 22.95 #Camera length in cm\n",
    "precession_angle= 1 #Precession angle in degrees\n",
    "precession_frequency=100 #Precession frequency in Hz\n",
    "exposure_time = 10 #exposure time in ms\n",
    "\n",
    "step_size = (13.9, 13.9) #Scan step sizes in (x, y)\n",
    "scan_units = 'nm'\n",
    "\n",
    "signal = pxm.load_mib(str(data_path), flip=True, reshape=False) #Flip True and reshape False needed to load correcly\n",
    "\n",
    "signal.set_experimental_parameters(beam_energy=beam_energy, \n",
    "                                    camera_length=cameralength, \n",
    "                                    rocking_angle=precession_angle, \n",
    "                                    rocking_frequency=precession_frequency, \n",
    "                                    exposure_time=exposure_time)\n",
    "\n",
    "hdr_dict = load_hdr(data_path.with_suffix('.hdr'))\n",
    "\n",
    "signal.metadata.add_dictionary({'Acquisition_instrument': {'Merlin_hdr': hdr_dict}})\n",
    "signal.original_metadata.add_dictionary({'HDR': hdr_dict})\n"
   ]
  },
  {
   "cell_type": "code",
   "execution_count": null,
   "id": "eabe9e68",
   "metadata": {},
   "outputs": [],
   "source": [
    "scan_shape = (128,128) #Enter scan shape here\n",
    "scan_chunks = (32, 32) #Defines how stored in memory\n",
    "\n",
    "detector_chunks = (32, 32)\n",
    "detector_shape = (256, 256) #Detector on 2100F is always 256,256\n",
    "\n",
    "data = signal.data\n",
    "data = data.reshape(scan_shape + detector_shape)\n",
    "data = data.rechunk(scan_chunks + detector_chunks)\n",
    "\n",
    "s = pxm.signals.LazyElectronDiffraction2D(data[:,:,:,:])\n",
    "\n",
    "s.metadata.add_dictionary(signal.metadata.as_dictionary())\n",
    "s.original_metadata.add_dictionary(signal.original_metadata.as_dictionary())\n",
    "\n",
    "s.set_signal_type(\"electron_diffraction\")\n",
    "\n",
    "s.data"
   ]
  },
  {
   "cell_type": "code",
   "execution_count": null,
   "id": "303e2ab6",
   "metadata": {},
   "outputs": [],
   "source": [
    "#plot to check it looks ok\n",
    "# If wrong, try to swap X and Y shape in scan_shape in cell above\n",
    "\n",
    "s.plot()"
   ]
  },
  {
   "cell_type": "code",
   "execution_count": null,
   "id": "9c8eb495",
   "metadata": {},
   "outputs": [],
   "source": [
    "make_subdir = True\n",
    "\n",
    "pixel_size = 55E-6 #Camera pixel size in m. Merlin pixel size is 55 um\n",
    "names = ['x', 'y', 'kx', 'ky']\n",
    "\n",
    "#Calculate pixel diffraction scales in k-space\n",
    "dx = abs(atan(pixel_size * s.axes_manager[2].size / \\\n",
    "s.metadata.Acquisition_instrument.TEM.Detector.Diffraction.camera_length) / \\\n",
    "wavelength(s.metadata.Acquisition_instrument.TEM.beam_energy) / s.axes_manager[2].size)\n",
    "\n",
    "dy = abs(atan(pixel_size * s.axes_manager[3].size / \\\n",
    "s.metadata.Acquisition_instrument.TEM.Detector.Diffraction.camera_length) / \\\n",
    "wavelength(s.metadata.Acquisition_instrument.TEM.beam_energy) / s.axes_manager[3].size)\n",
    "\n",
    "scales = [step_size[0], step_size[1], dx, dy]\n",
    "offsets = [0, 0, -dx*s.axes_manager[2].size/2, -dy*s.axes_manager[2].size/2]\n",
    "units = [scan_units, scan_units, '$Å^{-1}$', '$Å^{-1}$']\n",
    "for ax_no, (name, scale, offset, unit) in enumerate(zip(names, scales, offsets, units)):\n",
    "    s.axes_manager[ax_no].name = name\n",
    "    s.axes_manager[ax_no].scale = scale\n",
    "    s.axes_manager[ax_no].offset = offset\n",
    "    s.axes_manager[ax_no].units = unit\n",
    "\n",
    "print(s.axes_manager)\n",
    "\n",
    "\n",
    "if make_subdir:\n",
    "    output_directory = Path(f'{data_path.parent}/{data_path.stem}')\n",
    "    os.makedirs(output_directory.absolute(), exist_ok=True)\n",
    "    output_path = output_directory / data_path.with_suffix('.hspy').name #or .zspy\n",
    "else:\n",
    "    output_path = data_path.with_suffix('.hspy') #or .zspy\n",
    "s.save(str(output_path))   "
   ]
  }
 ],
 "metadata": {
  "kernelspec": {
   "display_name": "Python 3.9.13 ('pyxem142')",
   "language": "python",
   "name": "python3"
  },
  "language_info": {
   "codemirror_mode": {
    "name": "ipython",
    "version": 3
   },
   "file_extension": ".py",
   "mimetype": "text/x-python",
   "name": "python",
   "nbconvert_exporter": "python",
   "pygments_lexer": "ipython3",
   "version": "3.9.16"
  },
  "vscode": {
   "interpreter": {
    "hash": "b3edeedf99e80750ecf8f2feffd51d41d867e7401f9c9cd4d401fc6e7dd97070"
   }
  }
 },
 "nbformat": 4,
 "nbformat_minor": 5
}
