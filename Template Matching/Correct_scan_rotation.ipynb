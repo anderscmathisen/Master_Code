{
 "cells": [
  {
   "attachments": {},
   "cell_type": "markdown",
   "metadata": {},
   "source": [
    "## Correcting For Scan Rotation By resaving xmap after inplane rotation"
   ]
  },
  {
   "cell_type": "code",
   "execution_count": 1,
   "metadata": {},
   "outputs": [],
   "source": [
    "%matplotlib qt"
   ]
  },
  {
   "cell_type": "code",
   "execution_count": 2,
   "metadata": {},
   "outputs": [],
   "source": [
    "from orix.io import load, save\n",
    "from orix.crystal_map import crystal_map\n",
    "import numpy as np\n",
    "import os\n",
    "from orix.quaternion import Rotation"
   ]
  },
  {
   "cell_type": "code",
   "execution_count": 3,
   "metadata": {},
   "outputs": [],
   "source": [
    "def re_save_xmap_with_inplane_rotation(org_filename, new_name, rotation ):\n",
    "    xmap = load(org_filename)\n",
    "    rots_euler = xmap.rotations.to_euler()\n",
    "    rots_euler += np.array([np.deg2rad(rotation),0,0])\n",
    "    rot = Rotation.from_euler(rots_euler)\n",
    "    phaseid = xmap.phase_id\n",
    "    x = xmap.x\n",
    "    y = xmap.y\n",
    "    prop = xmap.prop\n",
    "    scan_unit = xmap.scan_unit\n",
    "    is_in_data = xmap.is_in_data\n",
    "    phaselist = xmap.phases\n",
    "\n",
    "    new_xmap = crystal_map.CrystalMap(rotations = rot,\n",
    "                phase_id = phaseid,\n",
    "                x = x,\n",
    "                y = y,\n",
    "                prop = prop,\n",
    "                scan_unit = scan_unit,\n",
    "                is_in_data = is_in_data,\n",
    "                phase_list=phaselist)\n",
    "\n",
    "    save(new_name, new_xmap)\n",
    "        "
   ]
  },
  {
   "cell_type": "code",
   "execution_count": 4,
   "metadata": {},
   "outputs": [],
   "source": [
    "folder = \"/Users/anders/Library/CloudStorage/OneDrive-NTNU/Master/Data/2100F/27_04_23\"\n",
    "\n",
    "file = \"ErMnO3_full_lamella.hdf5\"\n",
    "\n",
    "\n",
    "re_save_xmap_with_inplane_rotation(os.path.join(folder,file),os.path.join(folder, \"ErMnO3_full_lamella_rotated.hdf5\"), -19)"
   ]
  },
  {
   "cell_type": "code",
   "execution_count": null,
   "metadata": {},
   "outputs": [],
   "source": []
  }
 ],
 "metadata": {
  "kernelspec": {
   "display_name": "orix11",
   "language": "python",
   "name": "python3"
  },
  "language_info": {
   "codemirror_mode": {
    "name": "ipython",
    "version": 3
   },
   "file_extension": ".py",
   "mimetype": "text/x-python",
   "name": "python",
   "nbconvert_exporter": "python",
   "pygments_lexer": "ipython3",
   "version": "3.9.16"
  },
  "orig_nbformat": 4,
  "vscode": {
   "interpreter": {
    "hash": "38a6bec9c4be2209fc56f3af91ef6018170979a612b0e4a4488cd4ff031acb3a"
   }
  }
 },
 "nbformat": 4,
 "nbformat_minor": 2
}
