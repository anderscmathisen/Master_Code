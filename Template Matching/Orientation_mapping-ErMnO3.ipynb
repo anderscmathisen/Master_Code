{
 "cells": [
  {
   "attachments": {},
   "cell_type": "markdown",
   "id": "af6b71b7",
   "metadata": {},
   "source": [
    "## General TM routing with Pyxem. \n",
    "\n",
    "Parameters in this notebook are optimized for ErMnO3 1deg SPED 10 ms exposure time"
   ]
  },
  {
   "cell_type": "code",
   "execution_count": 1,
   "id": "6d6749db-17f1-4473-b1ce-3140faec3ea3",
   "metadata": {},
   "outputs": [],
   "source": [
    "%matplotlib qt"
   ]
  },
  {
   "cell_type": "code",
   "execution_count": 2,
   "id": "c9b5751a-35bf-4738-bd11-254650d87f94",
   "metadata": {},
   "outputs": [],
   "source": [
    "import numpy as np\n",
    "import matplotlib.pyplot as plt\n",
    "import hyperspy.api as hs\n",
    "from pathlib import Path\n",
    "import os"
   ]
  },
  {
   "cell_type": "code",
   "execution_count": 3,
   "id": "4c147205-7d97-4bc7-9150-f63153139820",
   "metadata": {},
   "outputs": [
    {
     "name": "stderr",
     "output_type": "stream",
     "text": [
      "WARNING:silx.opencl.common:The module pyOpenCL has been imported but can't be used here\n"
     ]
    }
   ],
   "source": [
    "folder = \"datapath\"\n",
    "\n",
    "file = \"SPED_600_280_correct_entire_lamella_10ms_Cl12_step20p8m_tx3p2_ty2p4_spot1nm_aplh5.hspy\"\n",
    "filepath = os.path.join(folder, file)\n",
    "org_data = hs.load(filepath) "
   ]
  },
  {
   "cell_type": "code",
   "execution_count": 5,
   "id": "00114ae5",
   "metadata": {},
   "outputs": [
    {
     "data": {
      "text/html": [
       "<ul style=\"margin: 0px; list-style-position: outside;\">\n",
       "                    <details open>\n",
       "                    <summary style=\"display: list-item;\">\n",
       "                    <li style=\"display: inline;\">\n",
       "                    Acquisition_instrument\n",
       "                    </li></summary>\n",
       "                    <ul style=\"margin: 0px; list-style-position: outside;\">\n",
       "                    <details closed>\n",
       "                    <summary style=\"display: list-item;\">\n",
       "                    <li style=\"display: inline;\">\n",
       "                    Merlin_hdr\n",
       "                    </li></summary>\n",
       "                    \n",
       "    <ul style=\"margin: 0px; list-style-position: outside;\">\n",
       "    <li style='margin-left:1em; padding-left: 0.5em'>Acquisition Type (Normal, Th_scan, Config) = Normal</li></ul>\n",
       "    \n",
       "    <ul style=\"margin: 0px; list-style-position: outside;\">\n",
       "    <li style='margin-left:1em; padding-left: 0.5em'>Active Counters = Counter 0</li></ul>\n",
       "    \n",
       "    <ul style=\"margin: 0px; list-style-position: outside;\">\n",
       "    <li style='margin-left:1em; padding-left: 0.5em'>Assembly Size (NX1, 2X2) = 1x1</li></ul>\n",
       "    \n",
       "    <ul style=\"margin: 0px; list-style-position: outside;\">\n",
       "    <li style='margin-left:1em; padding-left: 0.5em'>Chip ID = W559_G11, - , - , -</li></ul>\n",
       "    \n",
       "    <ul style=\"margin: 0px; list-style-position: outside;\">\n",
       "    <li style='margin-left:1em; padding-left: 0.5em'>Chip Mode  (SPM, CSM, CM, CSCM) = SPM</li></ul>\n",
       "    \n",
       "    <ul style=\"margin: 0px; list-style-position: outside;\">\n",
       "    <li style='margin-left:1em; padding-left: 0.5em'>Chip Type (Medipix 3.0, Medipix 3.1, Medipix 3RX) = Medipix 3RX</li></ul>\n",
       "    \n",
       "    <ul style=\"margin: 0px; list-style-position: outside;\">\n",
       "    <li style='margin-left:1em; padding-left: 0.5em'>Counter Depth (number) = 12</li></ul>\n",
       "    \n",
       "    <ul style=\"margin: 0px; list-style-position: outside;\">\n",
       "    <li style='margin-left:1em; padding-left: 0.5em'>DAC File = c:\\MERLIN_Quad_Config\\W559_G11\\W559_G11_SPM.dacs,,,</li></ul>\n",
       "    \n",
       "    <ul style=\"margin: 0px; list-style-position: outside;\">\n",
       "    <li style='margin-left:1em; padding-left: 0.5em'>DACs = 068,511,000,000,000,000,000,000,100,255,100,125,100,100,080,100,090,030,128,004,255,126,128,174,172,511,511; ; ;</li></ul>\n",
       "    \n",
       "    <ul style=\"margin: 0px; list-style-position: outside;\">\n",
       "    <li style='margin-left:1em; padding-left: 0.5em'>Dead Time File = Dummy (C:\\&lt;NUL&gt;\\)</li></ul>\n",
       "    \n",
       "    <ul style=\"margin: 0px; list-style-position: outside;\">\n",
       "    <li style='margin-left:1em; padding-left: 0.5em'>Flat Field File = None</li></ul>\n",
       "    \n",
       "    <ul style=\"margin: 0px; list-style-position: outside;\">\n",
       "    <li style='margin-left:1em; padding-left: 0.5em'>Frames in Acquisition (Number) = 321024</li></ul>\n",
       "    \n",
       "    <ul style=\"margin: 0px; list-style-position: outside;\">\n",
       "    <li style='margin-left:1em; padding-left: 0.5em'>Frames per Trigger (Number) = 1</li></ul>\n",
       "    \n",
       "    <ul style=\"margin: 0px; list-style-position: outside;\">\n",
       "    <li style='margin-left:1em; padding-left: 0.5em'>Gain = SLGM</li></ul>\n",
       "    \n",
       "    <ul style=\"margin: 0px; list-style-position: outside;\">\n",
       "    <li style='margin-left:1em; padding-left: 0.5em'>Gap Fill Mode = None</li></ul>\n",
       "    \n",
       "    <ul style=\"margin: 0px; list-style-position: outside;\">\n",
       "    <li style='margin-left:1em; padding-left: 0.5em'>Humidity (%) = Board Humidity 0.000000</li></ul>\n",
       "    \n",
       "    <ul style=\"margin: 0px; list-style-position: outside;\">\n",
       "    <li style='margin-left:1em; padding-left: 0.5em'>Medipix Clock (MHz) = 160MHz</li></ul>\n",
       "    \n",
       "    <ul style=\"margin: 0px; list-style-position: outside;\">\n",
       "    <li style='margin-left:1em; padding-left: 0.5em'>Readout System = Merlin Quad</li></ul>\n",
       "    \n",
       "    <ul style=\"margin: 0px; list-style-position: outside;\">\n",
       "    <li style='margin-left:1em; padding-left: 0.5em'>Sensor Bias (V) = 120 V</li></ul>\n",
       "    \n",
       "    <ul style=\"margin: 0px; list-style-position: outside;\">\n",
       "    <li style='margin-left:1em; padding-left: 0.5em'>Sensor Polarity (Positive, Negative) = Positive</li></ul>\n",
       "    \n",
       "    <ul style=\"margin: 0px; list-style-position: outside;\">\n",
       "    <li style='margin-left:1em; padding-left: 0.5em'>Software Version = 1.0.0.122</li></ul>\n",
       "    \n",
       "    <ul style=\"margin: 0px; list-style-position: outside;\">\n",
       "    <li style='margin-left:1em; padding-left: 0.5em'>Temperature (C) = Board Temp 0.000000 Deg C</li></ul>\n",
       "    \n",
       "    <ul style=\"margin: 0px; list-style-position: outside;\">\n",
       "    <li style='margin-left:1em; padding-left: 0.5em'>Thresholds (keV) = 4.000000E+1,5.110000E+2,0.000000E+0,0.000000E+0,0.000000E+0,0.000000E+0,0.000000E+0,0.000000E+0</li></ul>\n",
       "    \n",
       "    <ul style=\"margin: 0px; list-style-position: outside;\">\n",
       "    <li style='margin-left:1em; padding-left: 0.5em'>Time and Date Stamp (day, mnth, yr, hr, min, s) = 20/02/2023 18:28:07</li></ul>\n",
       "    \n",
       "    <ul style=\"margin: 0px; list-style-position: outside;\">\n",
       "    <li style='margin-left:1em; padding-left: 0.5em'>Trigger Start (Positive, Negative, Internal) = Rising Edge</li></ul>\n",
       "    \n",
       "    <ul style=\"margin: 0px; list-style-position: outside;\">\n",
       "    <li style='margin-left:1em; padding-left: 0.5em'>Trigger Stop (Positive, Negative, Internal) = Internal</li></ul>\n",
       "    \n",
       "    <ul style=\"margin: 0px; list-style-position: outside;\">\n",
       "    <li style='margin-left:1em; padding-left: 0.5em'>bpc File = c:\\MERLIN_Quad_Config\\W559_G11\\W559_G11_SPM.bpc,,,</li></ul>\n",
       "    </details></ul><ul style=\"margin: 0px; list-style-position: outside;\">\n",
       "                    <details closed>\n",
       "                    <summary style=\"display: list-item;\">\n",
       "                    <li style=\"display: inline;\">\n",
       "                    TEM\n",
       "                    </li></summary>\n",
       "                    <ul style=\"margin: 0px; list-style-position: outside;\">\n",
       "                    <details closed>\n",
       "                    <summary style=\"display: list-item;\">\n",
       "                    <li style=\"display: inline;\">\n",
       "                    Detector\n",
       "                    </li></summary>\n",
       "                    <ul style=\"margin: 0px; list-style-position: outside;\">\n",
       "                    <details closed>\n",
       "                    <summary style=\"display: list-item;\">\n",
       "                    <li style=\"display: inline;\">\n",
       "                    Diffraction\n",
       "                    </li></summary>\n",
       "                    \n",
       "    <ul style=\"margin: 0px; list-style-position: outside;\">\n",
       "    <li style='margin-left:1em; padding-left: 0.5em'>camera_length = 22.95</li></ul>\n",
       "    \n",
       "    <ul style=\"margin: 0px; list-style-position: outside;\">\n",
       "    <li style='margin-left:1em; padding-left: 0.5em'>exposure_time = 10</li></ul>\n",
       "    </details></ul></details></ul>\n",
       "    <ul style=\"margin: 0px; list-style-position: outside;\">\n",
       "    <li style='margin-left:1em; padding-left: 0.5em'>beam_energy = 200</li></ul>\n",
       "    \n",
       "    <ul style=\"margin: 0px; list-style-position: outside;\">\n",
       "    <li style='margin-left:1em; padding-left: 0.5em'>rocking_angle = 0</li></ul>\n",
       "    \n",
       "    <ul style=\"margin: 0px; list-style-position: outside;\">\n",
       "    <li style='margin-left:1em; padding-left: 0.5em'>rocking_frequency = 100</li></ul>\n",
       "    </details></ul></details></ul><ul style=\"margin: 0px; list-style-position: outside;\">\n",
       "                    <details open>\n",
       "                    <summary style=\"display: list-item;\">\n",
       "                    <li style=\"display: inline;\">\n",
       "                    General\n",
       "                    </li></summary>\n",
       "                    <ul style=\"margin: 0px; list-style-position: outside;\">\n",
       "                    <details closed>\n",
       "                    <summary style=\"display: list-item;\">\n",
       "                    <li style=\"display: inline;\">\n",
       "                    FileIO\n",
       "                    </li></summary>\n",
       "                    <ul style=\"margin: 0px; list-style-position: outside;\">\n",
       "                    <details closed>\n",
       "                    <summary style=\"display: list-item;\">\n",
       "                    <li style=\"display: inline;\">\n",
       "                    0\n",
       "                    </li></summary>\n",
       "                    \n",
       "    <ul style=\"margin: 0px; list-style-position: outside;\">\n",
       "    <li style='margin-left:1em; padding-left: 0.5em'>hyperspy_version = 1.7.1</li></ul>\n",
       "    \n",
       "    <ul style=\"margin: 0px; list-style-position: outside;\">\n",
       "    <li style='margin-left:1em; padding-left: 0.5em'>io_plugin = hyperspy.io_plugins.hspy</li></ul>\n",
       "    \n",
       "    <ul style=\"margin: 0px; list-style-position: outside;\">\n",
       "    <li style='margin-left:1em; padding-left: 0.5em'>operation = save</li></ul>\n",
       "    \n",
       "    <ul style=\"margin: 0px; list-style-position: outside;\">\n",
       "    <li style='margin-left:1em; padding-left: 0.5em'>timestamp = 2023-02-21T09:21:21.303346+01:00</li></ul>\n",
       "    </details></ul><ul style=\"margin: 0px; list-style-position: outside;\">\n",
       "                    <details closed>\n",
       "                    <summary style=\"display: list-item;\">\n",
       "                    <li style=\"display: inline;\">\n",
       "                    1\n",
       "                    </li></summary>\n",
       "                    \n",
       "    <ul style=\"margin: 0px; list-style-position: outside;\">\n",
       "    <li style='margin-left:1em; padding-left: 0.5em'>hyperspy_version = 1.7.1</li></ul>\n",
       "    \n",
       "    <ul style=\"margin: 0px; list-style-position: outside;\">\n",
       "    <li style='margin-left:1em; padding-left: 0.5em'>io_plugin = hyperspy.io_plugins.hspy</li></ul>\n",
       "    \n",
       "    <ul style=\"margin: 0px; list-style-position: outside;\">\n",
       "    <li style='margin-left:1em; padding-left: 0.5em'>operation = load</li></ul>\n",
       "    \n",
       "    <ul style=\"margin: 0px; list-style-position: outside;\">\n",
       "    <li style='margin-left:1em; padding-left: 0.5em'>timestamp = 2023-02-21T15:45:57.305289+01:00</li></ul>\n",
       "    </details></ul></details></ul>\n",
       "    <ul style=\"margin: 0px; list-style-position: outside;\">\n",
       "    <li style='margin-left:1em; padding-left: 0.5em'>title = </li></ul>\n",
       "    </details></ul><ul style=\"margin: 0px; list-style-position: outside;\">\n",
       "                    <details open>\n",
       "                    <summary style=\"display: list-item;\">\n",
       "                    <li style=\"display: inline;\">\n",
       "                    Signal\n",
       "                    </li></summary>\n",
       "                    \n",
       "    <ul style=\"margin: 0px; list-style-position: outside;\">\n",
       "    <li style='margin-left:1em; padding-left: 0.5em'>exposure_time = [0.005]</li></ul>\n",
       "    \n",
       "    <ul style=\"margin: 0px; list-style-position: outside;\">\n",
       "    <li style='margin-left:1em; padding-left: 0.5em'>flyback_times = None</li></ul>\n",
       "    \n",
       "    <ul style=\"margin: 0px; list-style-position: outside;\">\n",
       "    <li style='margin-left:1em; padding-left: 0.5em'>frames_number_skipped = None</li></ul>\n",
       "    \n",
       "    <ul style=\"margin: 0px; list-style-position: outside;\">\n",
       "    <li style='margin-left:1em; padding-left: 0.5em'>scan_X = None</li></ul>\n",
       "    \n",
       "    <ul style=\"margin: 0px; list-style-position: outside;\">\n",
       "    <li style='margin-left:1em; padding-left: 0.5em'>signal_type = electron_diffraction</li></ul>\n",
       "    </details></ul>"
      ],
      "text/plain": [
       "├── Acquisition_instrument\n",
       "│   ├── Merlin_hdr\n",
       "│   │   ├── Acquisition Type (Normal, Th_scan, Config) = Normal\n",
       "│   │   ├── Active Counters = Counter 0\n",
       "│   │   ├── Assembly Size (NX1, 2X2) = 1x1\n",
       "│   │   ├── Chip ID = W559_G11, - , - , -\n",
       "│   │   ├── Chip Mode  (SPM, CSM, CM, CSCM) = SPM\n",
       "│   │   ├── Chip Type (Medipix 3.0, Medipix 3.1, Medipix 3RX) = Medipix 3RX\n",
       "│   │   ├── Counter Depth (number) = 12\n",
       "│   │   ├── DAC File = c:\\MERLIN_Quad_Config\\W559_G11\\W559_G11_SPM.dacs,,,\n",
       "│   │   ├── DACs = 068,511,000,000,000,000,000,000,100,255,100,125,100,100,080,100,090,030,128,004,255,126,128,174,172,511,511; ; ;\n",
       "│   │   ├── Dead Time File = Dummy (C:\\<NUL>\\)\n",
       "│   │   ├── Flat Field File = None\n",
       "│   │   ├── Frames in Acquisition (Number) = 321024\n",
       "│   │   ├── Frames per Trigger (Number) = 1\n",
       "│   │   ├── Gain = SLGM\n",
       "│   │   ├── Gap Fill Mode = None\n",
       "│   │   ├── Humidity (%) = Board Humidity 0.000000\n",
       "│   │   ├── Medipix Clock (MHz) = 160MHz\n",
       "│   │   ├── Readout System = Merlin Quad\n",
       "│   │   ├── Sensor Bias (V) = 120 V\n",
       "│   │   ├── Sensor Polarity (Positive, Negative) = Positive\n",
       "│   │   ├── Software Version = 1.0.0.122\n",
       "│   │   ├── Temperature (C) = Board Temp 0.000000 Deg C\n",
       "│   │   ├── Thresholds (keV) = 4.000000E+1,5.110000E+2,0.000000E+0,0.000000E+0,0.000000E+0,0.000000E+0,0.000000E+0,0.000000E+0\n",
       "│   │   ├── Time and Date Stamp (day, mnth, yr, hr, min, s) = 20/02/2023 18:28:07\n",
       "│   │   ├── Trigger Start (Positive, Negative, Internal) = Rising Edge\n",
       "│   │   ├── Trigger Stop (Positive, Negative, Internal) = Internal\n",
       "│   │   └── bpc File = c:\\MERLIN_Quad_Config\\W559_G11\\W559_G11_SPM.bpc,,,\n",
       "│   └── TEM\n",
       "│       ├── Detector\n",
       "│       │   └── Diffraction\n",
       "│       │       ├── camera_length = 22.95\n",
       "│       │       └── exposure_time = 10\n",
       "│       ├── beam_energy = 200\n",
       "│       ├── rocking_angle = 0\n",
       "│       └── rocking_frequency = 100\n",
       "├── General\n",
       "│   ├── FileIO\n",
       "│   │   ├── 0\n",
       "│   │   │   ├── hyperspy_version = 1.7.1\n",
       "│   │   │   ├── io_plugin = hyperspy.io_plugins.hspy\n",
       "│   │   │   ├── operation = save\n",
       "│   │   │   └── timestamp = 2023-02-21T09:21:21.303346+01:00\n",
       "│   │   └── 1\n",
       "│   │       ├── hyperspy_version = 1.7.1\n",
       "│   │       ├── io_plugin = hyperspy.io_plugins.hspy\n",
       "│   │       ├── operation = load\n",
       "│   │       └── timestamp = 2023-02-21T15:45:57.305289+01:00\n",
       "│   └── title = \n",
       "└── Signal\n",
       "    ├── exposure_time = [0.005]\n",
       "    ├── flyback_times = None\n",
       "    ├── frames_number_skipped = None\n",
       "    ├── scan_X = None\n",
       "    └── signal_type = electron_diffraction"
      ]
     },
     "execution_count": 5,
     "metadata": {},
     "output_type": "execute_result"
    }
   ],
   "source": [
    "org_data.metadata"
   ]
  },
  {
   "cell_type": "code",
   "execution_count": null,
   "id": "b17d2f19",
   "metadata": {},
   "outputs": [],
   "source": [
    "work_data = org_data #Could do .inav[::2,::2] to decrease number of pixels and computation time\n",
    "work_data.plot()"
   ]
  },
  {
   "cell_type": "code",
   "execution_count": 7,
   "id": "b45b378e",
   "metadata": {},
   "outputs": [],
   "source": [
    "center_direct_beam_dict = {\n",
    "    \"method\" : \"blur\",\n",
    "    \"half_square_width\" : 10,\n",
    "    \"sigma\" : 3\n",
    "}\n",
    "work_data.metadata.add_node(\"center_direct_beam_kwargs\")\n",
    "work_data.metadata.center_direct_beam_kwargs =  center_direct_beam_dict"
   ]
  },
  {
   "cell_type": "code",
   "execution_count": 8,
   "id": "f6e4c69c-b167-4004-8381-1ce02aa77bf3",
   "metadata": {},
   "outputs": [
    {
     "name": "stdout",
     "output_type": "stream",
     "text": [
      "[########################################] | 100% Completed | 92.62 s\n",
      "[########################################] | 100% Completed | 33.79 s\n"
     ]
    }
   ],
   "source": [
    "work_data.center_direct_beam(**work_data.metadata.center_direct_beam_kwargs)"
   ]
  },
  {
   "cell_type": "code",
   "execution_count": 9,
   "id": "7e46fe6f-cafd-4601-b53d-f378a65d2b40",
   "metadata": {},
   "outputs": [],
   "source": [
    "work_data.plot(vmax = 50, cmap = 'viridis')"
   ]
  },
  {
   "cell_type": "code",
   "execution_count": 10,
   "id": "d948284c",
   "metadata": {},
   "outputs": [],
   "source": [
    "from pyxem.utils.expt_utils import investigate_dog_background_removal_interactive"
   ]
  },
  {
   "cell_type": "code",
   "execution_count": 12,
   "id": "387dffad",
   "metadata": {},
   "outputs": [
    {
     "name": "stderr",
     "output_type": "stream",
     "text": [
      "                                               \r"
     ]
    },
    {
     "name": "stderr",
     "output_type": "stream",
     "text": [
      "/home/anderscm/miniconda3/envs/pyxem142/lib/python3.9/site-packages/hyperspy/drawing/image.py:561: UserWarning: Attempted to set non-positive bottom ylim on a log-scaled axis.\n",
      "Invalid limit will be ignored.\n",
      "  ims[0].set_norm(norm)\n"
     ]
    }
   ],
   "source": [
    "gauss_stddev_maxs = np.arange(2, 12, 0.2) # min, max, step\n",
    "gauss_stddev_mins = np.arange(1, 4, 0.2) # min, max, step\n",
    "\n",
    "\n",
    "dp_test_area = work_data.inav[150,150]\n",
    "investigate_dog_background_removal_interactive(dp_test_area,\n",
    "                                               gauss_stddev_maxs,\n",
    "                                               gauss_stddev_mins)"
   ]
  },
  {
   "cell_type": "code",
   "execution_count": 13,
   "id": "d7c634d7",
   "metadata": {},
   "outputs": [],
   "source": [
    "diff_background_removal_dict = {\n",
    "    \"method\" : \"difference of gaussians\",\n",
    "    \"min_sigma\":3,\n",
    "    \"max_sigma\":6\n",
    "}\n",
    "work_data.metadata.add_node(\"subract_diff_background_kwargs\")\n",
    "work_data.metadata.subract_diff_background_kwargs = diff_background_removal_dict"
   ]
  },
  {
   "cell_type": "code",
   "execution_count": 14,
   "id": "d5df4a03-4cf7-46e3-994c-c497082e88dc",
   "metadata": {},
   "outputs": [],
   "source": [
    "#test preprocessing on a single PED pattern\n",
    "# If looks OK, parameters are used for entire SPED dataset\n",
    "\n",
    "testimg = work_data.inav[250,250].subtract_diffraction_background(**work_data.metadata.subract_diff_background_kwargs )\n",
    "testimg.plot( norm = 'symlog')"
   ]
  },
  {
   "cell_type": "code",
   "execution_count": 15,
   "id": "f658f027-01ef-4559-8f59-28d23f4a8715",
   "metadata": {},
   "outputs": [],
   "source": [
    "from skimage import filters"
   ]
  },
  {
   "cell_type": "code",
   "execution_count": 16,
   "id": "feff4bc3-d800-4beb-87a0-86f1fc347e9b",
   "metadata": {},
   "outputs": [],
   "source": [
    "def threshold_minimum(image, minimum=0.1):\n",
    "    image[image <= minimum] = 0.\n",
    "    return image"
   ]
  },
  {
   "cell_type": "code",
   "execution_count": 17,
   "id": "09e507d2-c89b-4971-a398-7721dc75341d",
   "metadata": {},
   "outputs": [],
   "source": [
    "\n",
    "testimg.map(filters.gaussian, sigma=0.5)\n",
    "testimg.map(threshold_minimum, minimum = 1)\n",
    "testimg.map(filters.gaussian, sigma=0.5)\n",
    "testimg.map(filters.gaussian, sigma = 1)\n",
    "testimg.map(threshold_minimum, minimum = 0.3)"
   ]
  },
  {
   "cell_type": "code",
   "execution_count": 18,
   "id": "c2963c6e-e3c8-4bc3-bb89-4281c04762d3",
   "metadata": {},
   "outputs": [],
   "source": [
    "testimg.plot( norm = 'symlog')"
   ]
  },
  {
   "cell_type": "code",
   "execution_count": 19,
   "id": "121bd2bf-e496-4ccd-b8f8-2f5c546617e2",
   "metadata": {},
   "outputs": [],
   "source": [
    "#Preprocessing on entire SPED data\n",
    "\n",
    "work_data = work_data.subtract_diffraction_background(**work_data.metadata.subract_diff_background_kwargs,)\n",
    "                                            \n",
    "work_data.map(filters.gaussian, sigma=0.5)\n",
    "work_data.map(threshold_minimum, minimum = 1)\n",
    "work_data.map(filters.gaussian, sigma=0.5)\n",
    "work_data.map(filters.gaussian, sigma = 1)\n",
    "work_data.map(threshold_minimum, minimum = 0.3)"
   ]
  },
  {
   "cell_type": "code",
   "execution_count": 21,
   "id": "5f53fa73-4188-4bca-97c5-b2006e8fbece",
   "metadata": {},
   "outputs": [
    {
     "name": "stdout",
     "output_type": "stream",
     "text": [
      "[########################################] | 100% Completed | 464.64 s\n"
     ]
    }
   ],
   "source": [
    "work_data.plot(norm = 'symlog', cmap = 'inferno_r')"
   ]
  },
  {
   "cell_type": "code",
   "execution_count": 23,
   "id": "3d9b98ea-4878-4856-bf65-760ea81ccefd",
   "metadata": {},
   "outputs": [],
   "source": [
    "#Make diffraction library, loads file if diff library already excists\n",
    "\n",
    "from Utils.GetDiffLibrary import GetDiffLibrary\n",
    "\n",
    "diffraction_calibration = 0.00952354965\n",
    "half_radius = 80\n",
    "diff_lib = GetDiffLibrary(diffraction_calibration, \n",
    "                        12,\n",
    "                        half_radius,\n",
    "                        resolution=0.3,\n",
    "                        make_new=False,\n",
    "                        grid_cub = None, \n",
    "                        minimum_intensity=0.0015,\n",
    "                        max_excitation_error=0.0125,\n",
    "                        precession_angle =0.3 \n",
    "                        )\n",
    "\n",
    "simulations = diff_lib[\"ErMnO3\"][\"simulations\"]\n",
    "orientations = diff_lib[\"ErMnO3\"][\"orientations\"]"
   ]
  },
  {
   "cell_type": "code",
   "execution_count": 25,
   "id": "03d1426c-e6c1-4261-807b-9cc068659ded",
   "metadata": {},
   "outputs": [],
   "source": [
    "\n",
    "from pyxem.utils import indexation_utils as iutls\n",
    "from pyxem.utils import plotting_utils as putls"
   ]
  },
  {
   "cell_type": "code",
   "execution_count": 26,
   "id": "ca52cdfd-ac36-4387-a73f-15fb65f2107c",
   "metadata": {},
   "outputs": [],
   "source": [
    "#Select a PED pattern to test TM on before running TM on full dataset\n",
    "\n",
    "image = work_data.inav[250,260].data"
   ]
  },
  {
   "cell_type": "code",
   "execution_count": 27,
   "id": "598e8ddd-51d7-41fd-9930-c1bb9ab8f537",
   "metadata": {},
   "outputs": [],
   "source": [
    "indexes, angles, corrs, angles_m, corrs_m = iutls.correlate_library_to_pattern(image, simulations)"
   ]
  },
  {
   "cell_type": "code",
   "execution_count": 28,
   "id": "7cec4f71",
   "metadata": {},
   "outputs": [
    {
     "name": "stderr",
     "output_type": "stream",
     "text": [
      "/home/anderscm/miniconda3/envs/pyxem142/lib/python3.9/site-packages/diffsims/generators/sphere_mesh_generators.py:515: RuntimeWarning: invalid value encountered in true_divide\n",
      "  phi2 = sign * np.nan_to_num(np.arccos(x_comp / norm_proj))\n"
     ]
    }
   ],
   "source": [
    "from orix.quaternion import Orientation, symmetry\n",
    "from orix.vector import Vector3d\n",
    "from diffsims.generators.rotation_list_generators import get_beam_directions_grid\n",
    "grid_cub = get_beam_directions_grid(\"hexagonal\", 0.3, mesh=\"spherified_cube_edge\")\n",
    "origrid = Orientation.from_euler(\n",
    "    np.radians(grid_cub),\n",
    "    symmetry=symmetry.C6h\n",
    "\n",
    ")\n",
    "v = Vector3d(((0, 0, 1)))\n",
    "origrid.scatter(\"ipf\", direction=v, s = 10)"
   ]
  },
  {
   "cell_type": "code",
   "execution_count": 29,
   "id": "dca0a6c4-287c-45e4-8e5d-c58315aacab8",
   "metadata": {},
   "outputs": [],
   "source": [
    "\n",
    "all_cors = np.stack([corrs, corrs_m])\n",
    "vmin = all_cors.min()\n",
    "vmax = all_cors.max()\n",
    "\n",
    "fig = plt.figure()\n",
    "ax0 = fig.add_subplot(121, projection=\"ipf\", direction=v, symmetry=symmetry.C6v)\n",
    "ax1 = fig.add_subplot(122, projection=\"ipf\", direction=v, symmetry=symmetry.C6v)\n",
    "ax0.set_title(\"Correlations\")\n",
    "ax1.set_title(\"Mirrored correlations\")\n",
    "ax0.scatter(origrid[indexes], c = corrs, cmap = \"inferno\", vmin = vmin, vmax = vmax)\n",
    "ax0.scatter(origrid[corrs.argmax()])\n",
    "ax1.scatter(origrid[indexes], c = corrs_m, cmap = \"inferno\", vmin = vmin, vmax = vmax)"
   ]
  },
  {
   "cell_type": "code",
   "execution_count": 30,
   "id": "e1349155-4b94-49f6-a5b0-2bea5b0deb8a",
   "metadata": {},
   "outputs": [],
   "source": [
    "indices_n, angles_n, correlations_n, signs_n = iutls.get_n_best_matches(image, simulations,)"
   ]
  },
  {
   "cell_type": "code",
   "execution_count": 31,
   "id": "acaa8c51-cfaf-4a1f-8a5d-9de1691ea8a5",
   "metadata": {},
   "outputs": [
    {
     "data": {
      "text/plain": [
       "(<AxesSubplot:>,\n",
       " <matplotlib.image.AxesImage at 0x7f77bdc07670>,\n",
       " <matplotlib.collections.PathCollection at 0x7f77bdb55c70>)"
      ]
     },
     "execution_count": 31,
     "metadata": {},
     "output_type": "execute_result"
    }
   ],
   "source": [
    "mirrored = signs_n[0] == -1\n",
    "putls.plot_template_over_pattern(image,\n",
    "                                 simulations[indices_n[0]],\n",
    "                                 in_plane_angle=angles_n[0],\n",
    "                                 size_factor = 1,\n",
    "                                 vmax=20,\n",
    "                                 mirrored_template=mirrored,\n",
    "                                 find_direct_beam=False,\n",
    "                                 cmap = \"inferno\"\n",
    "                                )"
   ]
  },
  {
   "cell_type": "code",
   "execution_count": 32,
   "id": "9203db87-d55b-419d-97fb-e9e29c8be02c",
   "metadata": {},
   "outputs": [],
   "source": [
    "#introduce log scaling on image, which gives more accurate TM results\n",
    "\n",
    "def log_func(x):\n",
    "    return(np.log10(x + 0.01))"
   ]
  },
  {
   "cell_type": "code",
   "execution_count": 33,
   "id": "d64c580d-d16d-4219-a1ac-a40b0e6710e7",
   "metadata": {},
   "outputs": [],
   "source": [
    "indices_n, angles_n, correlations_n, signs_n = iutls.get_n_best_matches(image, simulations,intensity_transform_function=log_func)"
   ]
  },
  {
   "cell_type": "code",
   "execution_count": 34,
   "id": "0b069030-efec-4cd3-bc03-bf9e191ef633",
   "metadata": {},
   "outputs": [
    {
     "data": {
      "text/plain": [
       "(<AxesSubplot:>,\n",
       " <matplotlib.image.AxesImage at 0x7f77bdea6a30>,\n",
       " <matplotlib.collections.PathCollection at 0x7f77bdc81460>)"
      ]
     },
     "execution_count": 34,
     "metadata": {},
     "output_type": "execute_result"
    }
   ],
   "source": [
    "mirrored = signs_n[0] == -1\n",
    "putls.plot_template_over_pattern(image,\n",
    "                                 simulations[indices_n[0]],\n",
    "                                 in_plane_angle=angles_n[0],\n",
    "                                 size_factor = 1,\n",
    "                                 vmax=20,\n",
    "                                 mirrored_template=mirrored,\n",
    "                                 find_direct_beam=False,\n",
    "                                 cmap = \"inferno\"\n",
    "                                )"
   ]
  },
  {
   "cell_type": "markdown",
   "id": "326faff3-4616-4a43-8518-56ca6c10fbea",
   "metadata": {},
   "source": [
    "### Full template matching"
   ]
  },
  {
   "cell_type": "code",
   "execution_count": 35,
   "id": "20572887-2076-45d1-86e2-09abbaddf6ab",
   "metadata": {},
   "outputs": [
    {
     "name": "stdout",
     "output_type": "stream",
     "text": [
      "[########################################] | 100% Completed | 2hr 41m\n"
     ]
    }
   ],
   "source": [
    "result, phasedict = iutls.index_dataset_with_template_rotation(\n",
    "                                                    work_data,\n",
    "                                                    diff_lib,\n",
    "                                                    n_best = 2,\n",
    "                                                    intensity_transform_function=log_func,\n",
    "                                                    normalize_images = True,\n",
    "                                                    )"
   ]
  },
  {
   "cell_type": "code",
   "execution_count": 56,
   "id": "c6b1b3f4-a1d8-4c58-b6d5-fdb0bad67d7a",
   "metadata": {},
   "outputs": [],
   "source": [
    "#Convert python dict to orix CrystalMap object\n",
    "\n",
    "xmap = iutls.results_dict_to_crystal_map(result,phasedict)"
   ]
  },
  {
   "cell_type": "code",
   "execution_count": 57,
   "id": "952c96d6-2393-4b1c-b749-63815fe12f21",
   "metadata": {},
   "outputs": [],
   "source": [
    "xmap.phases[0].space_group = 185"
   ]
  },
  {
   "cell_type": "code",
   "execution_count": 51,
   "id": "759c0700-a2a0-4a4d-a004-26795fa409ca",
   "metadata": {},
   "outputs": [],
   "source": [
    "corrs = xmap.correlation[:,0]\n",
    "_  = plt.hist(corrs, bins = 100)\n",
    "plt.show()"
   ]
  },
  {
   "cell_type": "code",
   "execution_count": 58,
   "id": "6ade2b0f",
   "metadata": {},
   "outputs": [],
   "source": [
    "xmap.scan_unit = \"nm\""
   ]
  },
  {
   "cell_type": "code",
   "execution_count": 59,
   "id": "a70ac17f-de6b-4134-bd65-966f2bff16b4",
   "metadata": {},
   "outputs": [],
   "source": [
    "from orix import plot\n",
    "from orix.crystal_map import CrystalMap, Phase, PhaseList\n",
    "from orix.io import load, save\n",
    "from orix.quaternion import Orientation, Rotation, symmetry\n",
    "from orix.vector import Vector3d\n",
    "import matplotlib.pyplot as plt"
   ]
  },
  {
   "cell_type": "code",
   "execution_count": null,
   "id": "716e76fc",
   "metadata": {},
   "outputs": [],
   "source": [
    "#Initial Orix plot to see that TM result looks OK.\n",
    "\n",
    "# IMPORTANT: Orientations in this plot will be 30° rotated \n",
    "# arond c-axis for ErMnO3 because of different orientation definition (a*||X vs a||X). \n",
    "# Could be fixed by multiplying orientations with Rotation.from_axes_angles([0,0,1], np.deg2rad(30))\n",
    "# MTEX plotting in plot_results.m handles this better.\n",
    "\n",
    "\n",
    "ckey = plot.IPFColorKeyTSL(xmap.phases[\"ErMnO3\"].point_group, direction=Vector3d.xvector())\n",
    "Color_X = ckey.orientation2color(xmap[\"ErMnO3\"].orientations)\n",
    "ckey.direction = Vector3d.yvector()\n",
    "Color_Y = ckey.orientation2color(xmap[\"ErMnO3\"].orientations)\n",
    "ckey.direction = Vector3d.zvector()\n",
    "Color_Z = ckey.orientation2color(xmap[\"ErMnO3\"].orientations)\n",
    "\n",
    "plt.figure()\n",
    "fig = plt.figure(figsize=(9,3))\n",
    "ax0 = fig.add_subplot(131, projection=\"plot_map\")\n",
    "ax1 = fig.add_subplot(132, projection=\"plot_map\")\n",
    "ax2 = fig.add_subplot(133, projection=\"plot_map\")\n",
    "ax0.set_title(\"X\")\n",
    "ax1.set_title(\"Y\")\n",
    "ax2.set_title(\"Z\")\n",
    "ax0.plot_map(xmap[\"ErMnO3\"], Color_X, scalebar=False)\n",
    "ax1.plot_map(xmap[\"ErMnO3\"], Color_Y, scalebar=False)\n",
    "ax2.plot_map(xmap[\"ErMnO3\"], Color_Z, scalebar=False)\n",
    "axes = [ax0,ax1,ax2]\n",
    "for ax in axes:\n",
    "    ax.set_xticks([])\n",
    "    ax.set_yticks([])\n",
    "fig.tight_layout()"
   ]
  },
  {
   "cell_type": "code",
   "execution_count": 36,
   "id": "7b91abfb",
   "metadata": {},
   "outputs": [],
   "source": [
    "import pickle\n",
    "def save_result_and_phase_dict(fname, result_dict, phase_dict):\n",
    "    fnam_result = f\"{fname}_result.dict\"\n",
    "    fname_phase = f\"{fname}_phase.dict\"\n",
    "\n",
    "    with open(fnam_result, \"wb\") as filehandler:\n",
    "        pickle.dump(result_dict, filehandler)\n",
    "\n",
    "    \n",
    "    with open(fname_phase, \"wb\") as filehandler:\n",
    "        pickle.dump(phase_dict, filehandler)\n",
    "\n",
    "save_result_and_phase_dict(\"ErMnO3_SED_left_side\", result, phasedict)"
   ]
  },
  {
   "cell_type": "code",
   "execution_count": 66,
   "id": "185dd570-ce0e-44cf-9a2a-a33482a31ab4",
   "metadata": {},
   "outputs": [],
   "source": [
    "#Saves the raw TM xmap, not corrected for scan rotation\n",
    "# Scan rotation is corrected in Correct_scan_rotation.ipynb\n",
    "# where xmap is saved as .ang file for further plotting with MTEX\n",
    "\n",
    "save('ErMnO3_full_lamella.hdf5',xmap) "
   ]
  }
 ],
 "metadata": {
  "kernelspec": {
   "display_name": "pyxem142",
   "language": "python",
   "name": "python3"
  },
  "language_info": {
   "codemirror_mode": {
    "name": "ipython",
    "version": 3
   },
   "file_extension": ".py",
   "mimetype": "text/x-python",
   "name": "python",
   "nbconvert_exporter": "python",
   "pygments_lexer": "ipython3",
   "version": "3.9.13"
  },
  "vscode": {
   "interpreter": {
    "hash": "379e2a84954a93480ab3c79a6dc77f741f415d09cdea8fc5c2c81380dd5c90eb"
   }
  }
 },
 "nbformat": 4,
 "nbformat_minor": 5
}
