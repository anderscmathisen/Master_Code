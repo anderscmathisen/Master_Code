{
 "cells": [
  {
   "attachments": {},
   "cell_type": "markdown",
   "metadata": {},
   "source": [
    "## This notebook illustrates how simulated difference PED patterns are compared with experimental diff of VSAD images"
   ]
  },
  {
   "cell_type": "code",
   "execution_count": 1,
   "metadata": {},
   "outputs": [],
   "source": [
    "%matplotlib qt"
   ]
  },
  {
   "cell_type": "code",
   "execution_count": 2,
   "metadata": {},
   "outputs": [],
   "source": [
    "import numpy as np\n",
    "import matplotlib.pyplot as plt\n",
    "import hyperspy.api as hs\n",
    "from skimage.transform import resize, rotate, downscale_local_mean, resize_local_mean\n",
    "from skimage.filters import gaussian\n",
    "from scipy.signal import correlate2d\n",
    "import pyxem as pxy\n",
    "plt.rcParams[\"svg.fonttype\"]  = \"none\"\n",
    "plt.rcParams[\"axes.unicode_minus\"] = False"
   ]
  },
  {
   "cell_type": "code",
   "execution_count": 3,
   "metadata": {},
   "outputs": [],
   "source": [
    "\n",
    "dp_exp_1deg_10ms = hs.load(\"/Users/anders/Library/CloudStorage/OneDrive-NTNU/Master/Data/2100F/22_03_23/20230322_181923/SPED_128_128_spot1_alph5_CL12_tx2p7_ty2p0_1deg_step13p9nm/SPED_128_128_spot1_alph5_CL12_tx2p7_ty2p0_1deg_step13p9nm.hspy\")\n",
    "\n",
    "\n",
    "diff_vsad_sim_1 = hs.load(\"/Users/anders/Library/CloudStorage/OneDrive-NTNU/Master/Data/py_multislice/1deg/SPEDsim_1deg_c_up_minus_down.hspy\")\n"
   ]
  },
  {
   "cell_type": "code",
   "execution_count": 5,
   "metadata": {},
   "outputs": [
    {
     "data": {
      "text/plain": [
       "<hyperspy.drawing._widgets.rectangles.RectangleWidget at 0x7fd4ee774760>"
      ]
     },
     "execution_count": 5,
     "metadata": {},
     "output_type": "execute_result"
    }
   ],
   "source": [
    "roi1 = hs.roi.CircleROI(cx=514.3, cy=986.9, r=118.15, r_inner=0)\n",
    "roi2 = hs.roi.CircleROI(cx=625.5, cy=1278.8, r=118.15, r_inner=0)\n",
    "\n",
    "vsad1 = roi1(dp_exp_1deg_10ms).nansum()\n",
    "vsad2 = roi2(dp_exp_1deg_10ms).nansum()\n",
    "\n",
    "\n",
    "diff_vsad_exp = np.zeros(vsad1.data.shape)\n",
    "diff_vsad_exp = (vsad1.data - vsad2.data)\n",
    "\n",
    "diff_vsad_exp = rotate(diff_vsad_exp, -7.5)\n",
    "\n",
    "diff_vsad_exp = hs.signals.Signal2D(diff_vsad_exp)\n",
    "\n",
    "exp_crop_rect = hs.roi.RectangularROI(left=41, top=46, right=214, bottom=209)\n",
    "diff_vsad_exp.plot()\n",
    "exp_crop_rect.add_widget(diff_vsad_exp)"
   ]
  },
  {
   "cell_type": "code",
   "execution_count": 6,
   "metadata": {},
   "outputs": [],
   "source": [
    "exp_cropped = exp_crop_rect(diff_vsad_exp)"
   ]
  },
  {
   "cell_type": "code",
   "execution_count": 7,
   "metadata": {},
   "outputs": [
    {
     "data": {
      "text/plain": [
       "<hyperspy.drawing._widgets.rectangles.RectangleWidget at 0x7fd3d5837460>"
      ]
     },
     "execution_count": 7,
     "metadata": {},
     "output_type": "execute_result"
    }
   ],
   "source": [
    "#One deg\n",
    "\n",
    "diff_vsad_sim_1.plot()\n",
    "sim_crop_rect = hs.roi.RectangularROI(left=404, top=404, right=961, bottom=961)\n",
    "\n",
    "sim_crop_rect.add_widget(diff_vsad_sim_1)"
   ]
  },
  {
   "cell_type": "code",
   "execution_count": 8,
   "metadata": {},
   "outputs": [],
   "source": [
    "#One deg\n",
    "\n",
    "sim_cropped = sim_crop_rect(diff_vsad_sim_1)"
   ]
  },
  {
   "cell_type": "code",
   "execution_count": 9,
   "metadata": {},
   "outputs": [
    {
     "name": "stdout",
     "output_type": "stream",
     "text": [
      "(300, 557, 557)\n"
     ]
    }
   ],
   "source": [
    "cx, cy = exp_cropped.data.shape\n",
    "print(sim_cropped.data.shape)"
   ]
  },
  {
   "cell_type": "code",
   "execution_count": 10,
   "metadata": {},
   "outputs": [],
   "source": [
    "sim_cropped.data = resize_local_mean(sim_cropped.data,(300,)+ exp_cropped.data.shape)\n",
    "\n",
    "sim_cropped = hs.signals.Signal2D(sim_cropped.data)"
   ]
  },
  {
   "cell_type": "code",
   "execution_count": 11,
   "metadata": {},
   "outputs": [],
   "source": [
    "dx = 10\n",
    "dy = 10\n",
    "\n",
    "sim_cropped.data[:, cx//2 - dx:cx//2+ dx,cy//2 -dy:cy//2 + dy]=0\n",
    "exp_cropped.data[cx//2 - dx:cx//2+ dx,cy//2 -dy:cy//2 + dy] =0"
   ]
  },
  {
   "cell_type": "code",
   "execution_count": 12,
   "metadata": {},
   "outputs": [],
   "source": [
    "exp_cropped.data = gaussian(exp_cropped.data)\n",
    "sim_cropped.data = gaussian(sim_cropped.data)"
   ]
  },
  {
   "cell_type": "code",
   "execution_count": 13,
   "metadata": {},
   "outputs": [],
   "source": [
    "\n",
    "def norm_data(data):\n",
    "    \"\"\"\n",
    "    normalize data to have mean=0 and standard_deviation=1\n",
    "    \"\"\"\n",
    "    mean_data=np.mean(data)\n",
    "    std_data=np.std(data, ddof=1)\n",
    "    #return (data-mean_data)/(std_data*np.sqrt(data.size-1))\n",
    "    return (data-mean_data)/(std_data)\n",
    "\n",
    "\n",
    "def ncc(data0, data1):\n",
    "    \"\"\"\n",
    "    normalized cross-correlation coefficient between two data sets\n",
    "\n",
    "    Parameters\n",
    "    ----------\n",
    "    data0, data1 :  numpy arrays of same size\n",
    "    \"\"\"\n",
    "    return (1.0/(data0.size-1)) * np.sum(norm_data(data0)*norm_data(data1))\n"
   ]
  },
  {
   "cell_type": "code",
   "execution_count": 19,
   "metadata": {},
   "outputs": [
    {
     "name": "stdout",
     "output_type": "stream",
     "text": [
      "Argmax 110\n",
      "Thickness = 709.87 Å\n"
     ]
    }
   ],
   "source": [
    "thick = np.linspace(250,1500,300)\n",
    "corrs = []\n",
    "corrs_inv = []\n",
    "\n",
    "for i in range(sim_cropped.data.shape[0]):\n",
    "    corrs.append(ncc(sim_cropped.data[i].ravel(), exp_cropped.data.ravel()))\n",
    "    corrs_inv.append(ncc(sim_cropped.data[i,::-1,::-1].ravel(), exp_cropped.data.ravel()))\n",
    "\n",
    "corrs = np.array(corrs)\n",
    "corrs = corrs.squeeze()\n",
    "\n",
    "plt.figure()\n",
    "plt.plot(thick /10 , corrs)\n",
    "plt.plot(thick /10 , corrs_inv, label  = \"Down-Up\")\n",
    "print(\"Argmax\", np.argmax(corrs))\n",
    "print(f\"Thickness = {thick[np.argmax(corrs)] :.2f} Å\")\n",
    "plt.xlabel(\"Thickness [nm]\")\n",
    "plt.ylabel(\"NCC Score\")\n",
    "plt.title(\"Down - Up\")\n",
    "plt.grid()\n"
   ]
  },
  {
   "cell_type": "code",
   "execution_count": 20,
   "metadata": {},
   "outputs": [],
   "source": [
    "sim_cropped.axes_manager[0].index = np.argmax(corrs)\n",
    "\n",
    "sim_cropped.plot(cmap=\"RdBu\")\n",
    "exp_cropped.plot(cmap=\"RdBu\")"
   ]
  },
  {
   "cell_type": "code",
   "execution_count": null,
   "metadata": {},
   "outputs": [],
   "source": []
  }
 ],
 "metadata": {
  "kernelspec": {
   "display_name": "pyxem142",
   "language": "python",
   "name": "python3"
  },
  "language_info": {
   "codemirror_mode": {
    "name": "ipython",
    "version": 3
   },
   "file_extension": ".py",
   "mimetype": "text/x-python",
   "name": "python",
   "nbconvert_exporter": "python",
   "pygments_lexer": "ipython3",
   "version": "3.9.16"
  },
  "orig_nbformat": 4
 },
 "nbformat": 4,
 "nbformat_minor": 2
}
