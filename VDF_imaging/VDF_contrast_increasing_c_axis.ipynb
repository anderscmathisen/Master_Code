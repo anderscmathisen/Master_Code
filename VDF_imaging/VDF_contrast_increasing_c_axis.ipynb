{
 "cells": [
  {
   "attachments": {},
   "cell_type": "markdown",
   "metadata": {},
   "source": [
    "## Finding domain contrast in VDF images from different reflections\n",
    "\n",
    "This notebook illustrates how VDF images can be generated from all\n",
    "diffraction reflections in a SPED scan, and how domain contrast can be\n",
    "calculated for all the resulting VDF images.\n",
    "\n"
   ]
  },
  {
   "cell_type": "code",
   "execution_count": 1,
   "metadata": {},
   "outputs": [],
   "source": [
    "%matplotlib qt"
   ]
  },
  {
   "cell_type": "code",
   "execution_count": 2,
   "metadata": {},
   "outputs": [],
   "source": [
    "import hyperspy.api as hs\n",
    "import numpy as np\n",
    "import matplotlib.pyplot as plt"
   ]
  },
  {
   "cell_type": "code",
   "execution_count": 3,
   "metadata": {},
   "outputs": [],
   "source": [
    "DP_f_2m1m10 = hs.load(\"/Users/anders/Library/CloudStorage/OneDrive-NTNU/Master/Data/2100F/22_03_23/hspy-files/SPED_128_128_spot1_alph5_CL12_tx2p7_ty2p0_1deg_step13p9nm.hspy\", lazy = True)\n"
   ]
  },
  {
   "cell_type": "code",
   "execution_count": 4,
   "metadata": {},
   "outputs": [],
   "source": [
    "#plot a single VDF image\n",
    "\n",
    "roi = hs.roi.CircleROI(cx=-0.0037868, cy=-0.0106807, r= 0.000825327, r_inner=0)\n",
    "DP_f_2m1m10.plot_integrated_intensity(roi)\n",
    "\n"
   ]
  },
  {
   "cell_type": "code",
   "execution_count": 5,
   "metadata": {},
   "outputs": [
    {
     "data": {
      "text/plain": [
       "<hyperspy.drawing._widgets.circle.CircleWidget at 0x7fa45757f2b0>"
      ]
     },
     "execution_count": 5,
     "metadata": {},
     "output_type": "execute_result"
    }
   ],
   "source": [
    "# Get summed VSAD image from grain\n",
    "\n",
    "VSA_apperture = hs.roi.CircleROI(cx=903.5, cy=1139.8, r=257.15, r_inner=0)\n",
    "\n",
    "DP_f_2m1m10.plot()\n",
    "VSA_apperture.add_widget(DP_f_2m1m10)\n"
   ]
  },
  {
   "cell_type": "code",
   "execution_count": 6,
   "metadata": {},
   "outputs": [],
   "source": [
    "VSAD = DP_f_2m1m10.T.get_integrated_intensity(VSA_apperture)\n",
    "\n",
    "VSAD.plot()"
   ]
  },
  {
   "cell_type": "code",
   "execution_count": null,
   "metadata": {},
   "outputs": [
    {
     "name": "stdout",
     "output_type": "stream",
     "text": [
      "[########################################] | 100% Completed |  3.8s\n"
     ]
    }
   ],
   "source": [
    "peaks = VSAD.find_peaks(method=\"local_max\", distance = 6, threshold=7.3, interactive=False)"
   ]
  },
  {
   "cell_type": "code",
   "execution_count": null,
   "metadata": {},
   "outputs": [],
   "source": [
    "#This cell gives a rough placement of VDF apertures based on peak finding\n",
    "# The apertures need to be centered propperly and new ones added manually to \n",
    "# actually cover all diffraction reflections\n",
    "\n",
    "VDF_appertures = []\n",
    "\n",
    "\n",
    "for peak in peaks.data[0]:\n",
    "    cy,cx = (np.array(peak) - VSAD.data.shape[0]//2)*DP_f_2m1m10.axes_manager[-1].scale\n",
    "    roi = hs.roi.CircleROI(cx=cx,cy=cy,r=0.000825327, r_inner=0)\n",
    "    \n",
    "    VDF_appertures.append(roi)\n",
    "\n",
    "\n"
   ]
  },
  {
   "cell_type": "code",
   "execution_count": null,
   "metadata": {},
   "outputs": [],
   "source": [
    "#plot all rois and center them\n",
    "\n",
    "VSAD.plot()\n",
    "\n",
    "for r in VDF_appertures:\n",
    "    r.add_widget(VSAD)\n"
   ]
  },
  {
   "cell_type": "code",
   "execution_count": null,
   "metadata": {},
   "outputs": [],
   "source": [
    "#See that we need to add 13 rois to cover all\n",
    "\n",
    "for i in range(13):\n",
    "    roi = hs.roi.CircleROI(cx=0,cy=0,r=0.000825327, r_inner=0)\n",
    "    VDF_appertures.append(roi)\n",
    "\n",
    "\n",
    "VSAD.plot()\n",
    "\n",
    "for r in VDF_appertures:\n",
    "    r.add_widget(VSAD)"
   ]
  },
  {
   "cell_type": "code",
   "execution_count": 7,
   "metadata": {},
   "outputs": [],
   "source": [
    "#After manually adjusting the position of each VSA apperture\n",
    "\n",
    "\n",
    "\n",
    "VDF_appertures_centered= [\n",
    "    hs.roi.CircleROI(cx=-0.0116517, cy=0.00135936, r=0.000825327, r_inner=0),\n",
    "hs.roi.CircleROI(cx=-0.0116517, cy=-0.000291292, r=0.000825327, r_inner=0),\n",
    "hs.roi.CircleROI(cx=-0.0112633, cy=-0.00961263, r=0.000825327, r_inner=0),\n",
    "hs.roi.CircleROI(cx=-0.0112633, cy=0.00310711, r=0.000825327, r_inner=0),\n",
    "hs.roi.CircleROI(cx=-0.0111662, cy=-0.0113604, r=0.000825327, r_inner=0),\n",
    "hs.roi.CircleROI(cx=-0.010972, cy=0.00679681, r=0.000825327, r_inner=0),\n",
    "hs.roi.CircleROI(cx=-0.0110691, cy=0.00514616, r=0.000825327, r_inner=0),\n",
    "hs.roi.CircleROI(cx=-0.010972, cy=-0.00776778, r=0.000825327, r_inner=0),\n",
    "hs.roi.CircleROI(cx=-0.0107778, cy=-0.00611713, r=0.000825327, r_inner=0),\n",
    "hs.roi.CircleROI(cx=-0.0104865, cy=-0.00417518, r=0.000825327, r_inner=0),\n",
    "hs.roi.CircleROI(cx=-0.0105836, cy=0.00854456, r=0.000825327, r_inner=0),\n",
    "hs.roi.CircleROI(cx=-0.0101952, cy=-0.00242743, r=0.000825327, r_inner=0),\n",
    "hs.roi.CircleROI(cx=-0.0102923, cy=0.0102923, r=0.000825327, r_inner=0),\n",
    "hs.roi.CircleROI(cx=-0.010001, cy=-0.000679681, r=0.000825327, r_inner=0),\n",
    "hs.roi.CircleROI(cx=-0.00970973, cy=0.00135936, r=0.000825327, r_inner=0),\n",
    "hs.roi.CircleROI(cx=-0.00951554, cy=0.00301002, r=0.000825327, r_inner=0),\n",
    "hs.roi.CircleROI(cx=-0.00922424, cy=-0.00980683, r=0.000825327, r_inner=0),\n",
    "hs.roi.CircleROI(cx=-0.00922424, cy=0.00475777, r=0.000825327, r_inner=0),\n",
    "hs.roi.CircleROI(cx=-0.00903005, cy=-0.00815617, r=0.000825327, r_inner=0),\n",
    "hs.roi.CircleROI(cx=-0.00873876, cy=-0.00640842, r=0.000825327, r_inner=0),\n",
    "hs.roi.CircleROI(cx=-0.00903005, cy=0.00669971, r=0.000825327, r_inner=0),\n",
    "hs.roi.CircleROI(cx=-0.00893295, cy=0.00835037, r=0.000825327, r_inner=0),\n",
    "hs.roi.CircleROI(cx=-0.00854456, cy=0.0100981, r=0.000825327, r_inner=0),\n",
    "hs.roi.CircleROI(cx=-0.00864166, cy=-0.00446648, r=0.000825327, r_inner=0),\n",
    "hs.roi.CircleROI(cx=-0.00825327, cy=-0.00262163, r=0.000825327, r_inner=0),\n",
    "hs.roi.CircleROI(cx=-0.00805908, cy=-0.000776778, r=0.000825327, r_inner=0),\n",
    "hs.roi.CircleROI(cx=-0.00786488, cy=0.000970973, r=0.000825327, r_inner=0),\n",
    "hs.roi.CircleROI(cx=-0.00757359, cy=0.00281582, r=0.000825327, r_inner=0),\n",
    "hs.roi.CircleROI(cx=-0.0073794, cy=-0.0100981, r=0.000825327, r_inner=0),\n",
    "hs.roi.CircleROI(cx=-0.0072823, cy=0.00466067, r=0.000825327, r_inner=0),\n",
    "hs.roi.CircleROI(cx=-0.0071852, cy=0.00631133, r=0.000825327, r_inner=0),\n",
    "hs.roi.CircleROI(cx=-0.0071852, cy=-0.00825327, r=0.000825327, r_inner=0),\n",
    "hs.roi.CircleROI(cx=-0.00679681, cy=0.00805908, r=0.000825327, r_inner=0),\n",
    "hs.roi.CircleROI(cx=-0.00669971, cy=-0.00475777, r=0.000825327, r_inner=0),\n",
    "hs.roi.CircleROI(cx=-0.00689391, cy=-0.00640842, r=0.000825327, r_inner=0),\n",
    "hs.roi.CircleROI(cx=-0.00650552, cy=-0.00291292, r=0.000825327, r_inner=0),\n",
    "hs.roi.CircleROI(cx=-0.00631133, cy=0.010001, r=0.000825327, r_inner=0),\n",
    "hs.roi.CircleROI(cx=-0.00602003, cy=-0.00106807, r=0.000825327, r_inner=0),\n",
    "hs.roi.CircleROI(cx=-0.00602003, cy=0.000776778, r=0.000825327, r_inner=0),\n",
    "hs.roi.CircleROI(cx=-0.00572874, cy=0.00242743, r=0.000825327, r_inner=0),\n",
    "hs.roi.CircleROI(cx=-0.00514616, cy=0.00592294, r=0.000825327, r_inner=0),\n",
    "hs.roi.CircleROI(cx=-0.00534035, cy=0.00417518, r=0.000825327, r_inner=0),\n",
    "hs.roi.CircleROI(cx=-0.00524325, cy=-0.00873876, r=0.000825327, r_inner=0),\n",
    "hs.roi.CircleROI(cx=-0.00534035, cy=-0.0102923, r=0.000825327, r_inner=0),\n",
    "hs.roi.CircleROI(cx=-0.00495196, cy=-0.00689391, r=0.000825327, r_inner=0),\n",
    "hs.roi.CircleROI(cx=-0.00475777, cy=-0.00495196, r=0.000825327, r_inner=0),\n",
    "hs.roi.CircleROI(cx=-0.00485487, cy=0.00776778, r=0.000825327, r_inner=0),\n",
    "hs.roi.CircleROI(cx=-0.00475777, cy=0.00980683, r=0.000825327, r_inner=0),\n",
    "hs.roi.CircleROI(cx=-0.00427228, cy=-0.00135936, r=0.000825327, r_inner=0),\n",
    "hs.roi.CircleROI(cx=-0.00446648, cy=0.0115546, r=0.000825327, r_inner=0),\n",
    "hs.roi.CircleROI(cx=-0.00436938, cy=-0.00320421, r=0.000825327, r_inner=0),\n",
    "hs.roi.CircleROI(cx=-0.00407809, cy=0.000388389, r=0.000825327, r_inner=0),\n",
    "hs.roi.CircleROI(cx=-0.00388389, cy=0.00223324, r=0.000825327, r_inner=0),\n",
    "hs.roi.CircleROI(cx=-0.00320421, cy=0.00582584, r=0.000825327, r_inner=0),\n",
    "hs.roi.CircleROI(cx=-0.0035926, cy=0.00398099, r=0.000825327, r_inner=0),\n",
    "hs.roi.CircleROI(cx=-0.0034955, cy=-0.0105836, r=0.000825327, r_inner=0),\n",
    "hs.roi.CircleROI(cx=-0.00301002, cy=-0.00699101, r=0.000825327, r_inner=0),\n",
    "hs.roi.CircleROI(cx=-0.00330131, cy=-0.00873876, r=0.000825327, r_inner=0),\n",
    "hs.roi.CircleROI(cx=-0.00291292, cy=0.00767069, r=0.000825327, r_inner=0),\n",
    "hs.roi.CircleROI(cx=-0.00281582, cy=-0.00524325, r=0.000825327, r_inner=0),\n",
    "hs.roi.CircleROI(cx=-0.00281582, cy=0.00932134, r=0.000825327, r_inner=0),\n",
    "hs.roi.CircleROI(cx=-0.00252453, cy=0.0112633, r=0.000825327, r_inner=0),\n",
    "hs.roi.CircleROI(cx=-0.00262163, cy=-0.0034955, r=0.000825327, r_inner=0),\n",
    "hs.roi.CircleROI(cx=-0.00233034, cy=-0.00165065, r=0.000825327, r_inner=0),\n",
    "hs.roi.CircleROI(cx=-0.00184485, cy=0.00194195, r=0.000825327, r_inner=0),\n",
    "hs.roi.CircleROI(cx=-0.00213614, cy=9.70973E-05, r=0.000825327, r_inner=0),\n",
    "hs.roi.CircleROI(cx=-0.00165065, cy=-0.010972, r=0.000825327, r_inner=0),\n",
    "hs.roi.CircleROI(cx=-0.00165065, cy=0.0036897, r=0.000825327, r_inner=0),\n",
    "hs.roi.CircleROI(cx=-0.00145646, cy=0.00553455, r=0.000825327, r_inner=0),\n",
    "hs.roi.CircleROI(cx=-0.00135936, cy=-0.00912715, r=0.000825327, r_inner=0),\n",
    "hs.roi.CircleROI(cx=-0.00116517, cy=0.0073794, r=0.000825327, r_inner=0),\n",
    "hs.roi.CircleROI(cx=-0.00116517, cy=-0.0072823, r=0.000825327, r_inner=0),\n",
    "hs.roi.CircleROI(cx=-0.00106807, cy=-0.00553455, r=0.000825327, r_inner=0),\n",
    "hs.roi.CircleROI(cx=-0.000873876, cy=0.00912715, r=0.000825327, r_inner=0),\n",
    "hs.roi.CircleROI(cx=-0.000776778, cy=-0.0036897, r=0.000825327, r_inner=0),\n",
    "hs.roi.CircleROI(cx=-0.000679681, cy=0.010972, r=0.000825327, r_inner=0),\n",
    "hs.roi.CircleROI(cx=-0.000388389, cy=-0.00184485, r=0.000825327, r_inner=0),\n",
    "hs.roi.CircleROI(cx=-0.000291292, cy=-9.70973E-05, r=0.000825327, r_inner=0),\n",
    "hs.roi.CircleROI(cx=-9.70973E-05, cy=0.00184485, r=0.000825327, r_inner=0),\n",
    "hs.roi.CircleROI(cx=0.000194195, cy=-0.0112633, r=0.000825327, r_inner=0),\n",
    "hs.roi.CircleROI(cx=0.000194195, cy=0.0034955, r=0.000825327, r_inner=0),\n",
    "hs.roi.CircleROI(cx=0.000485487, cy=-0.00922424, r=0.000825327, r_inner=0),\n",
    "hs.roi.CircleROI(cx=0.000679681, cy=-0.00757359, r=0.000825327, r_inner=0),\n",
    "hs.roi.CircleROI(cx=0.000582584, cy=0.00543745, r=0.000825327, r_inner=0),\n",
    "hs.roi.CircleROI(cx=0.000873876, cy=0.0071852, r=0.000825327, r_inner=0),\n",
    "hs.roi.CircleROI(cx=0.000970973, cy=-0.00572874, r=0.000825327, r_inner=0),\n",
    "hs.roi.CircleROI(cx=0.000970973, cy=0.00883586, r=0.000825327, r_inner=0),\n",
    "hs.roi.CircleROI(cx=0.00116517, cy=-0.00398099, r=0.000825327, r_inner=0),\n",
    "hs.roi.CircleROI(cx=0.00126227, cy=-0.00213614, r=0.000825327, r_inner=0),\n",
    "hs.roi.CircleROI(cx=0.00116517, cy=0.0106807, r=0.000825327, r_inner=0),\n",
    "hs.roi.CircleROI(cx=0.00165065, cy=-0.000485487, r=0.000825327, r_inner=0),\n",
    "hs.roi.CircleROI(cx=0.00194195, cy=-0.0112633, r=0.000825327, r_inner=0),\n",
    "hs.roi.CircleROI(cx=0.00194195, cy=0.00135936, r=0.000825327, r_inner=0),\n",
    "hs.roi.CircleROI(cx=0.00213614, cy=0.00330131, r=0.000825327, r_inner=0),\n",
    "hs.roi.CircleROI(cx=0.00262163, cy=-0.00776778, r=0.000825327, r_inner=0),\n",
    "hs.roi.CircleROI(cx=0.00252453, cy=-0.00961263, r=0.000825327, r_inner=0),\n",
    "hs.roi.CircleROI(cx=0.00252453, cy=0.00524325, r=0.000825327, r_inner=0),\n",
    "hs.roi.CircleROI(cx=0.00271872, cy=0.00699101, r=0.000825327, r_inner=0),\n",
    "hs.roi.CircleROI(cx=0.00281582, cy=0.00864166, r=0.000825327, r_inner=0),\n",
    "hs.roi.CircleROI(cx=0.00310711, cy=0.0103894, r=0.000825327, r_inner=0),\n",
    "hs.roi.CircleROI(cx=0.00291292, cy=-0.00602003, r=0.000825327, r_inner=0),\n",
    "hs.roi.CircleROI(cx=0.00320421, cy=-0.00436938, r=0.000825327, r_inner=0),\n",
    "hs.roi.CircleROI(cx=0.00330131, cy=-0.00252453, r=0.000825327, r_inner=0),\n",
    "hs.roi.CircleROI(cx=0.0035926, cy=-0.000776778, r=0.000825327, r_inner=0),\n",
    "hs.roi.CircleROI(cx=0.00388389, cy=0.00106807, r=0.000825327, r_inner=0),\n",
    "hs.roi.CircleROI(cx=0.00407809, cy=-0.0115546, r=0.000825327, r_inner=0),\n",
    "hs.roi.CircleROI(cx=0.00417518, cy=0.00320421, r=0.000825327, r_inner=0),\n",
    "hs.roi.CircleROI(cx=0.00446648, cy=0.00495196, r=0.000825327, r_inner=0),\n",
    "hs.roi.CircleROI(cx=0.00446648, cy=-0.0100981, r=0.000825327, r_inner=0),\n",
    "hs.roi.CircleROI(cx=0.00446648, cy=-0.00796198, r=0.000825327, r_inner=0),\n",
    "hs.roi.CircleROI(cx=0.00456357, cy=0.00669971, r=0.000825327, r_inner=0),\n",
    "hs.roi.CircleROI(cx=0.00485487, cy=0.00854456, r=0.000825327, r_inner=0),\n",
    "hs.roi.CircleROI(cx=0.00475777, cy=-0.00621423, r=0.000825327, r_inner=0),\n",
    "hs.roi.CircleROI(cx=0.00504906, cy=-0.00446648, r=0.000825327, r_inner=0),\n",
    "hs.roi.CircleROI(cx=0.00514616, cy=0.0100981, r=0.000825327, r_inner=0),\n",
    "hs.roi.CircleROI(cx=0.00514616, cy=-0.00262163, r=0.000825327, r_inner=0),\n",
    "hs.roi.CircleROI(cx=0.00553455, cy=-0.000873876, r=0.000825327, r_inner=0),\n",
    "hs.roi.CircleROI(cx=0.00592294, cy=0.00106807, r=0.000825327, r_inner=0),\n",
    "hs.roi.CircleROI(cx=0.00602003, cy=-0.0116517, r=0.000825327, r_inner=0),\n",
    "hs.roi.CircleROI(cx=0.00611713, cy=0.00291292, r=0.000825327, r_inner=0),\n",
    "hs.roi.CircleROI(cx=0.00631133, cy=0.00456357, r=0.000825327, r_inner=0),\n",
    "hs.roi.CircleROI(cx=0.00660262, cy=0.00631133, r=0.000825327, r_inner=0),\n",
    "hs.roi.CircleROI(cx=0.00640842, cy=-0.0101952, r=0.000825327, r_inner=0),\n",
    "hs.roi.CircleROI(cx=0.00650552, cy=-0.00825327, r=0.000825327, r_inner=0),\n",
    "hs.roi.CircleROI(cx=0.00689391, cy=-0.00631133, r=0.000825327, r_inner=0),\n",
    "hs.roi.CircleROI(cx=0.00679681, cy=0.00825327, r=0.000825327, r_inner=0),\n",
    "hs.roi.CircleROI(cx=0.0070881, cy=-0.00436938, r=0.000825327, r_inner=0),\n",
    "hs.roi.CircleROI(cx=0.0070881, cy=0.010001, r=0.000825327, r_inner=0),\n",
    "hs.roi.CircleROI(cx=0.0071852, cy=0.0115546, r=0.000825327, r_inner=0),\n",
    "hs.roi.CircleROI(cx=0.0073794, cy=-0.00281582, r=0.000825327, r_inner=0),\n",
    "hs.roi.CircleROI(cx=0.00757359, cy=-0.000873876, r=0.000825327, r_inner=0),\n",
    "hs.roi.CircleROI(cx=0.00776778, cy=0.000679681, r=0.000825327, r_inner=0),\n",
    "hs.roi.CircleROI(cx=0.00786488, cy=0.00242743, r=0.000825327, r_inner=0),\n",
    "hs.roi.CircleROI(cx=0.00815617, cy=-0.0104865, r=0.000825327, r_inner=0),\n",
    "hs.roi.CircleROI(cx=0.00815617, cy=0.00436938, r=0.000825327, r_inner=0),\n",
    "hs.roi.CircleROI(cx=0.00835037, cy=0.00611713, r=0.000825327, r_inner=0),\n",
    "hs.roi.CircleROI(cx=0.00835037, cy=-0.00854456, r=0.000825327, r_inner=0),\n",
    "hs.roi.CircleROI(cx=0.00854456, cy=-0.00679681, r=0.000825327, r_inner=0),\n",
    "hs.roi.CircleROI(cx=0.00883586, cy=-0.00504906, r=0.000825327, r_inner=0),\n",
    "hs.roi.CircleROI(cx=0.00864166, cy=0.00786488, r=0.000825327, r_inner=0),\n",
    "hs.roi.CircleROI(cx=0.00903005, cy=-0.00320421, r=0.000825327, r_inner=0),\n",
    "hs.roi.CircleROI(cx=0.00893295, cy=0.00970973, r=0.000825327, r_inner=0),\n",
    "hs.roi.CircleROI(cx=0.00922424, cy=0.0115546, r=0.000825327, r_inner=0),\n",
    "hs.roi.CircleROI(cx=0.00932134, cy=-0.00126227, r=0.000825327, r_inner=0),\n",
    "hs.roi.CircleROI(cx=0.00980683, cy=0.00223324, r=0.000825327, r_inner=0),\n",
    "hs.roi.CircleROI(cx=0.00961263, cy=0.000485487, r=0.000825327, r_inner=0),\n",
    "hs.roi.CircleROI(cx=0.00990393, cy=-0.0105836, r=0.000825327, r_inner=0),\n",
    "hs.roi.CircleROI(cx=0.0103894, cy=0.00582584, r=0.000825327, r_inner=0),\n",
    "hs.roi.CircleROI(cx=0.0102923, cy=-0.00883586, r=0.000825327, r_inner=0),\n",
    "hs.roi.CircleROI(cx=0.0100981, cy=0.00407809, r=0.000825327, r_inner=0),\n",
    "hs.roi.CircleROI(cx=0.0104865, cy=-0.00699101, r=0.000825327, r_inner=0),\n",
    "hs.roi.CircleROI(cx=0.0106807, cy=0.00767069, r=0.000825327, r_inner=0),\n",
    "hs.roi.CircleROI(cx=0.0108749, cy=0.00932134, r=0.000825327, r_inner=0),\n",
    "hs.roi.CircleROI(cx=0.010972, cy=0.0112633, r=0.000825327, r_inner=0),\n",
    "hs.roi.CircleROI(cx=0.0110691, cy=-0.0034955, r=0.000825327, r_inner=0),\n",
    "hs.roi.CircleROI(cx=0.0108749, cy=-0.00524325, r=0.000825327, r_inner=0),\n",
    "hs.roi.CircleROI(cx=0.0113604, cy=-0.00145646, r=0.000825327, r_inner=0),\n",
    "hs.roi.CircleROI(cx=0.0114575, cy=9.70973E-05, r=0.000825327, r_inner=0),\n",
    "hs.roi.CircleROI(cx=0.0115546, cy=-0.0107778, r=0.000825327, r_inner=0),\n",
    "hs.roi.CircleROI(cx=0.00330131, cy=0.0115546, r=0.000825327, r_inner=0),\n",
    "hs.roi.CircleROI(cx=0.00961263, cy=-0.0116517, r=0.000825327, r_inner=0),\n",
    "hs.roi.CircleROI(cx=0.00776778, cy=-0.0116517, r=0.000825327, r_inner=0),\n",
    "hs.roi.CircleROI(cx=-0.0036897, cy=-0.0116517, r=0.000825327, r_inner=0),\n",
    "hs.roi.CircleROI(cx=-0.0101952, cy=0.0115546, r=0.000825327, r_inner=0),\n",
    "hs.roi.CircleROI(cx=-0.00844747, cy=0.0115546, r=0.000825327, r_inner=0),\n",
    "hs.roi.CircleROI(cx=0.0115546, cy=0.00388389, r=0.000825327, r_inner=0),\n",
    "hs.roi.CircleROI(cx=0.0115546, cy=0.00203904, r=0.000825327, r_inner=0),\n",
    "hs.roi.CircleROI(cx=0.00514616, cy=0.0115546, r=0.000825327, r_inner=0),\n",
    "hs.roi.CircleROI(cx=-0.00631133, cy=0.0115546, r=0.000825327, r_inner=0),\n",
    "hs.roi.CircleROI(cx=-0.00572874, cy=-0.0116517, r=0.000825327, r_inner=0),\n",
    "hs.roi.CircleROI(cx=-0.00757359, cy=-0.0116517, r=0.000825327, r_inner=0),\n",
    "hs.roi.CircleROI(cx=-0.00951554, cy=-0.0116517, r=0.000825327, r_inner=0),\n",
    "\n",
    "]\n",
    "\n",
    "VSAD.plot()\n",
    "\n",
    "for roi in VDF_appertures_centered:\n",
    "    roi.add_widget(VSAD)\n"
   ]
  },
  {
   "attachments": {},
   "cell_type": "markdown",
   "metadata": {},
   "source": [
    "Time to manually inspect all VDF images. Accept those with domain contrast (y)\n",
    "\n",
    "Reject those with no domain contrast, or with dominated bending contrast"
   ]
  },
  {
   "cell_type": "code",
   "execution_count": 8,
   "metadata": {},
   "outputs": [
    {
     "data": {
      "image/png": "[encoded data removed]",
      "text/plain": [
       "<Figure size 640x581.818 with 2 Axes>"
      ]
     },
     "metadata": {},
     "output_type": "display_data"
    },
    {
     "ename": "KeyboardInterrupt",
     "evalue": "Interrupted by user",
     "output_type": "error",
     "traceback": [
      "\u001b[0;31m---------------------------------------------------------------------------\u001b[0m",
      "\u001b[0;31mKeyboardInterrupt\u001b[0m                         Traceback (most recent call last)",
      "Cell \u001b[0;32mIn[8], line 12\u001b[0m\n\u001b[1;32m     10\u001b[0m display(plt\u001b[39m.\u001b[39mgcf())\n\u001b[1;32m     11\u001b[0m plt\u001b[39m.\u001b[39mclose()\n\u001b[0;32m---> 12\u001b[0m accept \u001b[39m=\u001b[39m  \u001b[39minput\u001b[39;49m(\u001b[39m\"\u001b[39;49m\u001b[39mAccept image? (y): \u001b[39;49m\u001b[39m\"\u001b[39;49m)\n\u001b[1;32m     14\u001b[0m \u001b[39mif\u001b[39;00m accept \u001b[39m==\u001b[39m \u001b[39m\"\u001b[39m\u001b[39my\u001b[39m\u001b[39m\"\u001b[39m:\n\u001b[1;32m     15\u001b[0m     accepted_VDF_apertures\u001b[39m.\u001b[39mappend(roi)\n",
      "File \u001b[0;32m~/opt/miniconda3/envs/pyxem142/lib/python3.9/site-packages/ipykernel/kernelbase.py:1175\u001b[0m, in \u001b[0;36mKernel.raw_input\u001b[0;34m(self, prompt)\u001b[0m\n\u001b[1;32m   1171\u001b[0m \u001b[39mif\u001b[39;00m \u001b[39mnot\u001b[39;00m \u001b[39mself\u001b[39m\u001b[39m.\u001b[39m_allow_stdin:\n\u001b[1;32m   1172\u001b[0m     \u001b[39mraise\u001b[39;00m StdinNotImplementedError(\n\u001b[1;32m   1173\u001b[0m         \u001b[39m\"\u001b[39m\u001b[39mraw_input was called, but this frontend does not support input requests.\u001b[39m\u001b[39m\"\u001b[39m\n\u001b[1;32m   1174\u001b[0m     )\n\u001b[0;32m-> 1175\u001b[0m \u001b[39mreturn\u001b[39;00m \u001b[39mself\u001b[39;49m\u001b[39m.\u001b[39;49m_input_request(\n\u001b[1;32m   1176\u001b[0m     \u001b[39mstr\u001b[39;49m(prompt),\n\u001b[1;32m   1177\u001b[0m     \u001b[39mself\u001b[39;49m\u001b[39m.\u001b[39;49m_parent_ident[\u001b[39m\"\u001b[39;49m\u001b[39mshell\u001b[39;49m\u001b[39m\"\u001b[39;49m],\n\u001b[1;32m   1178\u001b[0m     \u001b[39mself\u001b[39;49m\u001b[39m.\u001b[39;49mget_parent(\u001b[39m\"\u001b[39;49m\u001b[39mshell\u001b[39;49m\u001b[39m\"\u001b[39;49m),\n\u001b[1;32m   1179\u001b[0m     password\u001b[39m=\u001b[39;49m\u001b[39mFalse\u001b[39;49;00m,\n\u001b[1;32m   1180\u001b[0m )\n",
      "File \u001b[0;32m~/opt/miniconda3/envs/pyxem142/lib/python3.9/site-packages/ipykernel/kernelbase.py:1217\u001b[0m, in \u001b[0;36mKernel._input_request\u001b[0;34m(self, prompt, ident, parent, password)\u001b[0m\n\u001b[1;32m   1214\u001b[0m             \u001b[39mbreak\u001b[39;00m\n\u001b[1;32m   1215\u001b[0m \u001b[39mexcept\u001b[39;00m \u001b[39mKeyboardInterrupt\u001b[39;00m:\n\u001b[1;32m   1216\u001b[0m     \u001b[39m# re-raise KeyboardInterrupt, to truncate traceback\u001b[39;00m\n\u001b[0;32m-> 1217\u001b[0m     \u001b[39mraise\u001b[39;00m \u001b[39mKeyboardInterrupt\u001b[39;00m(\u001b[39m\"\u001b[39m\u001b[39mInterrupted by user\u001b[39m\u001b[39m\"\u001b[39m) \u001b[39mfrom\u001b[39;00m \u001b[39mNone\u001b[39m\n\u001b[1;32m   1218\u001b[0m \u001b[39mexcept\u001b[39;00m \u001b[39mException\u001b[39;00m:\n\u001b[1;32m   1219\u001b[0m     \u001b[39mself\u001b[39m\u001b[39m.\u001b[39mlog\u001b[39m.\u001b[39mwarning(\u001b[39m\"\u001b[39m\u001b[39mInvalid Message:\u001b[39m\u001b[39m\"\u001b[39m, exc_info\u001b[39m=\u001b[39m\u001b[39mTrue\u001b[39;00m)\n",
      "\u001b[0;31mKeyboardInterrupt\u001b[0m: Interrupted by user"
     ]
    }
   ],
   "source": [
    "%matplotlib inline\n",
    "from IPython.display import display, clear_output\n",
    "\n",
    "accepted_VDF_apertures = []\n",
    "\n",
    "for roi in VDF_appertures_centered:\n",
    "    VDF = DP_f_2m1m10.get_integrated_intensity(roi)\n",
    "    VDF.plot()\n",
    "\n",
    "    display(plt.gcf())\n",
    "    plt.close()\n",
    "    accept =  input(\"Accept image? (y): \")\n",
    "\n",
    "    if accept == \"y\":\n",
    "        accepted_VDF_apertures.append(roi)\n",
    "\n",
    "    clear_output(wait=True)\n",
    "    "
   ]
  },
  {
   "cell_type": "code",
   "execution_count": 10,
   "metadata": {},
   "outputs": [],
   "source": [
    "#after accepting those with domain contrast you might get\n",
    "\n",
    "\n",
    "VDF_rois_f_2m1m10 = [\n",
    "hs.roi.CircleROI(cx=-0.0110691, cy=0.00689391, r=0.000825327, r_inner=0),\n",
    "hs.roi.CircleROI(cx=-0.0100981, cy=-0.00242743, r=0.000825327, r_inner=0),\n",
    "hs.roi.CircleROI(cx=-0.00970973, cy=0.00310711, r=0.000825327, r_inner=0),\n",
    "hs.roi.CircleROI(cx=-0.00912715, cy=0.00466067, r=0.000825327, r_inner=0),\n",
    "hs.roi.CircleROI(cx=-0.00864166, cy=-0.00436938, r=0.000825327, r_inner=0),\n",
    "hs.roi.CircleROI(cx=-0.00883586, cy=-0.00776778, r=0.000825327, r_inner=0),\n",
    "hs.roi.CircleROI(cx=-0.00883586, cy=0.00844747, r=0.000825327, r_inner=0),\n",
    "hs.roi.CircleROI(cx=-0.00893295, cy=-0.00602003, r=0.000825327, r_inner=0),\n",
    "hs.roi.CircleROI(cx=-0.00776778, cy=-0.0100981, r=0.000825327, r_inner=0),\n",
    "hs.roi.CircleROI(cx=-0.0072823, cy=-0.00805908, r=0.000825327, r_inner=0),\n",
    "hs.roi.CircleROI(cx=-0.0070881, cy=0.00640842, r=0.000825327, r_inner=0),\n",
    "hs.roi.CircleROI(cx=-0.00689391, cy=-0.00640842, r=0.000825327, r_inner=0),\n",
    "hs.roi.CircleROI(cx=-0.00669971, cy=-0.00456357, r=0.000825327, r_inner=0),\n",
    "hs.roi.CircleROI(cx=-0.00631133, cy=-0.00281582, r=0.000825327, r_inner=0),\n",
    "hs.roi.CircleROI(cx=-0.00582584, cy=0.00281582, r=0.000825327, r_inner=0),\n",
    "hs.roi.CircleROI(cx=-0.00543745, cy=0.00436938, r=0.000825327, r_inner=0),\n",
    "hs.roi.CircleROI(cx=-0.00524325, cy=0.00621423, r=0.000825327, r_inner=0),\n",
    "hs.roi.CircleROI(cx=-0.00504906, cy=-0.00873876, r=0.000825327, r_inner=0),\n",
    "hs.roi.CircleROI(cx=-0.00504906, cy=0.00776778, r=0.000825327, r_inner=0),\n",
    "hs.roi.CircleROI(cx=-0.00495196, cy=-0.0070881, r=0.000825327, r_inner=0),\n",
    "hs.roi.CircleROI(cx=-0.00466067, cy=0.00951554, r=0.000825327, r_inner=0),\n",
    "hs.roi.CircleROI(cx=-0.00427228, cy=-0.00126227, r=0.000825327, r_inner=0),\n",
    "hs.roi.CircleROI(cx=-0.00330131, cy=-0.00883586, r=0.000825327, r_inner=0),\n",
    "hs.roi.CircleROI(cx=-0.00339841, cy=-0.0105836, r=0.000825327, r_inner=0),\n",
    "hs.roi.CircleROI(cx=-0.00301002, cy=0.00776778, r=0.000825327, r_inner=0),\n",
    "hs.roi.CircleROI(cx=-0.00271872, cy=-0.00514616, r=0.000825327, r_inner=0),\n",
    "hs.roi.CircleROI(cx=-0.00271872, cy=0.00932134, r=0.000825327, r_inner=0),\n",
    "hs.roi.CircleROI(cx=-0.00233034, cy=-0.00165065, r=0.000825327, r_inner=0),\n",
    "hs.roi.CircleROI(cx=-0.00252453, cy=0.0113604, r=0.000825327, r_inner=0),\n",
    "hs.roi.CircleROI(cx=-0.00203904, cy=0.00184485, r=0.000825327, r_inner=0),\n",
    "hs.roi.CircleROI(cx=-0.00174775, cy=-0.0106807, r=0.000825327, r_inner=0),\n",
    "hs.roi.CircleROI(cx=-0.00165065, cy=-0.00903005, r=0.000825327, r_inner=0),\n",
    "hs.roi.CircleROI(cx=-0.00116517, cy=-0.0073794, r=0.000825327, r_inner=0),\n",
    "hs.roi.CircleROI(cx=-0.000970973, cy=0.00922424, r=0.000825327, r_inner=0),\n",
    "hs.roi.CircleROI(cx=-0.000388389, cy=-0.00184485, r=0.000825327, r_inner=0),\n",
    "hs.roi.CircleROI(cx=9.70973E-05, cy=-0.010972, r=0.000825327, r_inner=0),\n",
    "hs.roi.CircleROI(cx=9.70973E-05, cy=0.00174775, r=0.000825327, r_inner=0),\n",
    "hs.roi.CircleROI(cx=0.000582584, cy=-0.00912715, r=0.000825327, r_inner=0),\n",
    "hs.roi.CircleROI(cx=0.000679681, cy=0.0071852, r=0.000825327, r_inner=0),\n",
    "hs.roi.CircleROI(cx=0.000776778, cy=-0.00747649, r=0.000825327, r_inner=0),\n",
    "hs.roi.CircleROI(cx=0.000776778, cy=-0.00582584, r=0.000825327, r_inner=0),\n",
    "hs.roi.CircleROI(cx=0.00126227, cy=0.0108749, r=0.000825327, r_inner=0),\n",
    "hs.roi.CircleROI(cx=0.00194195, cy=0.00145646, r=0.000825327, r_inner=0),\n",
    "hs.roi.CircleROI(cx=0.00174775, cy=-0.00203904, r=0.000825327, r_inner=0),\n",
    "hs.roi.CircleROI(cx=0.00203904, cy=0.00330131, r=0.000825327, r_inner=0),\n",
    "hs.roi.CircleROI(cx=0.00223324, cy=0.00504906, r=0.000825327, r_inner=0),\n",
    "hs.roi.CircleROI(cx=0.00233034, cy=-0.00776778, r=0.000825327, r_inner=0),\n",
    "hs.roi.CircleROI(cx=0.00252453, cy=-0.00980683, r=0.000825327, r_inner=0),\n",
    "hs.roi.CircleROI(cx=0.00485487, cy=-0.00621423, r=0.000825327, r_inner=0),\n",
    "hs.roi.CircleROI(cx=0.00436938, cy=-0.00980683, r=0.000825327, r_inner=0),\n",
    "hs.roi.CircleROI(cx=0.00466067, cy=0.00679681, r=0.000825327, r_inner=0),\n",
    "hs.roi.CircleROI(cx=0.00485487, cy=0.00854456, r=0.000825327, r_inner=0),\n",
    "hs.roi.CircleROI(cx=0.00456357, cy=-0.00796198, r=0.000825327, r_inner=0),\n",
    "hs.roi.CircleROI(cx=0.00514616, cy=-0.00436938, r=0.000825327, r_inner=0),\n",
    "hs.roi.CircleROI(cx=0.00582584, cy=0.00301002, r=0.000825327, r_inner=0),\n",
    "hs.roi.CircleROI(cx=0.00602003, cy=0.00456357, r=0.000825327, r_inner=0),\n",
    "hs.roi.CircleROI(cx=0.00640842, cy=-0.010001, r=0.000825327, r_inner=0),\n",
    "hs.roi.CircleROI(cx=0.00679681, cy=-0.00631133, r=0.000825327, r_inner=0),\n",
    "hs.roi.CircleROI(cx=0.00660262, cy=0.00621423, r=0.000825327, r_inner=0),\n",
    "hs.roi.CircleROI(cx=0.00669971, cy=0.00815617, r=0.000825327, r_inner=0),\n",
    "hs.roi.CircleROI(cx=0.00815617, cy=0.00456357, r=0.000825327, r_inner=0),\n",
    "hs.roi.CircleROI(cx=0.00990393, cy=0.00233034, r=0.000825327, r_inner=0),\n",
    "hs.roi.CircleROI(cx=0.0110691, cy=-0.00339841, r=0.000825327, r_inner=0),\n",
    "hs.roi.CircleROI(cx=-0.00174775, cy=0.00398099, r=0.000825327, r_inner=0),\n",
    "hs.roi.CircleROI(cx=-0.00262163, cy=-0.00310711, r=0.000825327, r_inner=0),\n",
    "hs.roi.CircleROI(cx=0.00116517, cy=-0.00388389, r=0.000825327, r_inner=0),\n",
    "hs.roi.CircleROI(cx=0.0034955, cy=-0.00223324, r=0.000825327, r_inner=0),\n",
    "hs.roi.CircleROI(cx=0.00301002, cy=0.0104865, r=0.000825327, r_inner=0),\n",
    "hs.roi.CircleROI(cx=-0.000873876, cy=0.010972, r=0.000825327, r_inner=0),\n",
    "hs.roi.CircleROI(cx=0.00825327, cy=-0.00844747, r=0.000825327, r_inner=0),\n",
    "hs.roi.CircleROI(cx=0.00951554, cy=0.000388389, r=0.000825327, r_inner=0),\n",
    "hs.roi.CircleROI(cx=0.00825327, cy=0.00592294, r=0.000825327, r_inner=0),\n",
    "hs.roi.CircleROI(cx=0.00757359, cy=0.000582584, r=0.000825327, r_inner=0),\n",
    "hs.roi.CircleROI(cx=0.00669971, cy=-0.00446648, r=0.000825327, r_inner=0),\n",
    "hs.roi.CircleROI(cx=0.00650552, cy=-0.00815617, r=0.000825327, r_inner=0),\n",
    "hs.roi.CircleROI(cx=0.00592294, cy=-0.0116517, r=0.000825327, r_inner=0),\n",
    "hs.roi.CircleROI(cx=0.00495196, cy=0.0115546, r=0.000825327, r_inner=0),\n",
    "hs.roi.CircleROI(cx=0.00281582, cy=0.00873876, r=0.000825327, r_inner=0),\n",
    "hs.roi.CircleROI(cx=-0.00145646, cy=0.00563164, r=0.000825327, r_inner=0),\n",
    "hs.roi.CircleROI(cx=-0.0037868, cy=0.00223324, r=0.000825327, r_inner=0),\n",
    "hs.roi.CircleROI(cx=-0.00621423, cy=-0.00106807, r=0.000825327, r_inner=0),\n",
    "hs.roi.CircleROI(cx=-0.00660262, cy=0.010001, r=0.000825327, r_inner=0)\n",
    "\n",
    "]\n",
    "\n"
   ]
  },
  {
   "cell_type": "code",
   "execution_count": 11,
   "metadata": {},
   "outputs": [
    {
     "name": "stdout",
     "output_type": "stream",
     "text": [
      "82\n"
     ]
    }
   ],
   "source": [
    "print(len(VDF_rois_f_2m1m10))"
   ]
  },
  {
   "cell_type": "code",
   "execution_count": 12,
   "metadata": {},
   "outputs": [],
   "source": [
    "%matplotlib qt\n",
    "VSAD.plot()\n",
    "\n",
    "for roi in VDF_rois_f_2m1m10:\n",
    "    roi.add_widget(VSAD)"
   ]
  },
  {
   "cell_type": "code",
   "execution_count": 13,
   "metadata": {},
   "outputs": [
    {
     "data": {
      "text/plain": [
       "<hyperspy.drawing._widgets.circle.CircleWidget at 0x7fa43ac6ea90>"
      ]
     },
     "execution_count": 13,
     "metadata": {},
     "output_type": "execute_result"
    }
   ],
   "source": [
    "#plot a VDF image to place rois bright and dark in separate domains\n",
    "\n",
    "roi_bright = hs.roi.CircleROI(cx=639.4, cy=695, r=201.55, r_inner=0)\n",
    "roi_dark = hs.roi.CircleROI(cx=931.3, cy=1278.8, r=201.55, r_inner=0)\n",
    "\n",
    "VDF = DP_f_2m1m10.get_integrated_intensity(VDF_rois_f_2m1m10[2])\n",
    "VDF.plot()\n",
    "\n",
    "roi_bright.add_widget(VDF)\n",
    "roi_dark.add_widget(VDF)"
   ]
  },
  {
   "cell_type": "code",
   "execution_count": 14,
   "metadata": {},
   "outputs": [],
   "source": [
    "contrasts = []\n",
    "\n",
    "for roi in VDF_rois_f_2m1m10:\n",
    "    VDF = DP_f_2m1m10.get_integrated_intensity(roi)\n",
    "\n",
    "    sum1 = np.sum(np.array(roi_bright(VDF).nansum().data))\n",
    "    sum2 = np.sum(np.array(roi_dark(VDF).nansum().data))\n",
    "\n",
    "    if sum1 > sum2:\n",
    "        sum_high = sum1\n",
    "        sum_low =  sum2\n",
    "    else:\n",
    "        sum_high = sum2\n",
    "        sum_low = sum1\n",
    "        \n",
    "    contrasts.append((sum_high-sum_low)/(sum_low+ sum_high))\n",
    "\n",
    "\n",
    "\n",
    "    "
   ]
  },
  {
   "cell_type": "code",
   "execution_count": 15,
   "metadata": {},
   "outputs": [
    {
     "data": {
      "text/plain": [
       "(-5.0, 90.0)"
      ]
     },
     "execution_count": 15,
     "metadata": {},
     "output_type": "execute_result"
    }
   ],
   "source": [
    "plt.figure()\n",
    "plt.scatter([0]*len(contrasts), contrasts)\n",
    "plt.xlim([-5,90])"
   ]
  },
  {
   "attachments": {},
   "cell_type": "markdown",
   "metadata": {},
   "source": [
    " Repeat for all 9 datasets in tiltseries to get the plot in my master thesis."
   ]
  },
  {
   "cell_type": "code",
   "execution_count": null,
   "metadata": {},
   "outputs": [],
   "source": []
  }
 ],
 "metadata": {
  "kernelspec": {
   "display_name": "pyxem142",
   "language": "python",
   "name": "python3"
  },
  "language_info": {
   "codemirror_mode": {
    "name": "ipython",
    "version": 3
   },
   "file_extension": ".py",
   "mimetype": "text/x-python",
   "name": "python",
   "nbconvert_exporter": "python",
   "pygments_lexer": "ipython3",
   "version": "3.9.16"
  },
  "orig_nbformat": 4
 },
 "nbformat": 4,
 "nbformat_minor": 2
}
