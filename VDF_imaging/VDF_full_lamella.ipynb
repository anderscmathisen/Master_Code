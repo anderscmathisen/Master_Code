{
 "cells": [
  {
   "cell_type": "code",
   "execution_count": 1,
   "metadata": {},
   "outputs": [],
   "source": [
    "%matplotlib qt"
   ]
  },
  {
   "cell_type": "code",
   "execution_count": 2,
   "metadata": {},
   "outputs": [],
   "source": [
    "import numpy as np\n",
    "import hyperspy.api as hs\n",
    "import matplotlib.pyplot as plt\n",
    "import orix.plot\n",
    "from orix.quaternion import Orientation, symmetry"
   ]
  },
  {
   "cell_type": "code",
   "execution_count": 3,
   "metadata": {},
   "outputs": [
    {
     "name": "stderr",
     "output_type": "stream",
     "text": [
      "WARNING:silx.opencl.common:The module pyOpenCL has been imported but can't be used here\n"
     ]
    }
   ],
   "source": [
    "dataset = hs.load(\"datapath/SPED_600_280_correct_entire_lamella_10ms_Cl12_step20p8m_tx3p2_ty2p4_spot1nm_aplh5.hspy\")"
   ]
  },
  {
   "cell_type": "code",
   "execution_count": 9,
   "metadata": {},
   "outputs": [],
   "source": [
    "roi = hs.roi.CircleROI(cx=-0.00553455, cy=0.00203904, r=0.000922424, r_inner=0)\n"
   ]
  },
  {
   "cell_type": "code",
   "execution_count": 76,
   "metadata": {},
   "outputs": [],
   "source": [
    "dataset.plot_integrated_intensity(roi)"
   ]
  },
  {
   "cell_type": "code",
   "execution_count": 77,
   "metadata": {},
   "outputs": [
    {
     "data": {
      "text/plain": [
       "CircleROI(cx=-0.000291292, cy=-0.000194195, r=0.000825327, r_inner=0)"
      ]
     },
     "execution_count": 77,
     "metadata": {},
     "output_type": "execute_result"
    }
   ],
   "source": [
    "roi"
   ]
  },
  {
   "cell_type": "code",
   "execution_count": 78,
   "metadata": {},
   "outputs": [],
   "source": [
    "roi_a = hs.roi.CircleROI(cx=0.0113604, cy=-0.00631133, r=0.000922424, r_inner=0)\n",
    "roi_f = hs.roi.CircleROI(cx=0.00126227, cy=-0.00398099, r=0.000825327, r_inner=0)\n",
    "roi_m =hs.roi.CircleROI(cx=0.00165065, cy=-0.0114575, r=0.000825327, r_inner=0)\n",
    "roi_p = hs.roi.CircleROI(cx=0.00475777, cy=-0.0103894, r=0.000825327, r_inner=0)\n",
    "roi_r = hs.roi.CircleROI(cx=-0.0116517, cy=9.70973E-05, r=0.000825327, r_inner=0)\n",
    "roi_w = hs.roi.CircleROI(cx=0.00320421, cy=0.00194195, r=0.000825327, r_inner=0)\n",
    "roi_o =hs.roi.CircleROI(cx=-0.00223324, cy=0.0115546, r=0.000825327, r_inner=0)\n",
    "roi_j =hs.roi.CircleROI(cx=-0.00301002, cy=-0.00310711, r=0.000825327, r_inner=0)\n",
    "roi_o_vol2 = hs.roi.CircleROI(cx=0.00174775, cy=0.0103894, r=0.000825327, r_inner=0)\n",
    "VBF = hs.roi.CircleROI(cx=-0.000291292, cy=-0.000194195, r=0.000825327, r_inner=0)"
   ]
  },
  {
   "cell_type": "code",
   "execution_count": 32,
   "metadata": {},
   "outputs": [],
   "source": [
    "def plot(roi, vmin = None,vmax=None):\n",
    "    img =dataset.get_integrated_intensity(roi)\n",
    "    img.plot(title=\"\", scalebar=False,colorbar=False,vmin = vmin, vmax = vmax)\n",
    "    plt.xlabel(\"\")\n",
    "    plt.ylabel(\"\")\n",
    "    plt.xticks([])\n",
    "    plt.yticks([])\n",
    "    plt.tight_layout()"
   ]
  },
  {
   "cell_type": "code",
   "execution_count": 81,
   "metadata": {},
   "outputs": [
    {
     "name": "stderr",
     "output_type": "stream",
     "text": [
      "Traceback (most recent call last):\n",
      "  File \"/home/anderscm/miniconda3/envs/pyxem142/lib/python3.9/site-packages/matplotlib/cbook/__init__.py\", line 287, in process\n",
      "    func(*args, **kwargs)\n",
      "  File \"/home/anderscm/miniconda3/envs/pyxem142/lib/python3.9/site-packages/hyperspy/drawing/figure.py\", line 68, in _on_blit_draw\n",
      "    self._background = fig.canvas.copy_from_bbox(fig.bbox)\n",
      "AttributeError: 'FigureCanvasPdf' object has no attribute 'copy_from_bbox'\n"
     ]
    }
   ],
   "source": [
    "plot(VBF)\n",
    "plt.savefig(\"VBF.pdf\")"
   ]
  },
  {
   "cell_type": "code",
   "execution_count": 75,
   "metadata": {},
   "outputs": [
    {
     "name": "stderr",
     "output_type": "stream",
     "text": [
      "Traceback (most recent call last):\n",
      "  File \"/home/anderscm/miniconda3/envs/pyxem142/lib/python3.9/site-packages/matplotlib/cbook/__init__.py\", line 287, in process\n",
      "    func(*args, **kwargs)\n",
      "  File \"/home/anderscm/miniconda3/envs/pyxem142/lib/python3.9/site-packages/hyperspy/drawing/figure.py\", line 68, in _on_blit_draw\n",
      "    self._background = fig.canvas.copy_from_bbox(fig.bbox)\n",
      "AttributeError: 'FigureCanvasPdf' object has no attribute 'copy_from_bbox'\n"
     ]
    }
   ],
   "source": [
    "plot(roi_o_vol2,vmax = 10000)\n",
    "plt.savefig(\"VDF_grain_o_vol2.pdf\")"
   ]
  },
  {
   "cell_type": "code",
   "execution_count": 72,
   "metadata": {},
   "outputs": [
    {
     "name": "stderr",
     "output_type": "stream",
     "text": [
      "Traceback (most recent call last):\n",
      "  File \"/home/anderscm/miniconda3/envs/pyxem142/lib/python3.9/site-packages/matplotlib/cbook/__init__.py\", line 287, in process\n",
      "    func(*args, **kwargs)\n",
      "  File \"/home/anderscm/miniconda3/envs/pyxem142/lib/python3.9/site-packages/hyperspy/drawing/figure.py\", line 68, in _on_blit_draw\n",
      "    self._background = fig.canvas.copy_from_bbox(fig.bbox)\n",
      "AttributeError: 'FigureCanvasPdf' object has no attribute 'copy_from_bbox'\n"
     ]
    }
   ],
   "source": [
    "plot(roi_j,3500)\n",
    "plt.savefig(\"VDF_grain_j.pdf\")"
   ]
  },
  {
   "cell_type": "code",
   "execution_count": 67,
   "metadata": {},
   "outputs": [
    {
     "name": "stderr",
     "output_type": "stream",
     "text": [
      "Traceback (most recent call last):\n",
      "  File \"/home/anderscm/miniconda3/envs/pyxem142/lib/python3.9/site-packages/matplotlib/cbook/__init__.py\", line 287, in process\n",
      "    func(*args, **kwargs)\n",
      "  File \"/home/anderscm/miniconda3/envs/pyxem142/lib/python3.9/site-packages/hyperspy/drawing/figure.py\", line 68, in _on_blit_draw\n",
      "    self._background = fig.canvas.copy_from_bbox(fig.bbox)\n",
      "AttributeError: 'FigureCanvasPdf' object has no attribute 'copy_from_bbox'\n"
     ]
    }
   ],
   "source": [
    "plot(roi_o, 200, 8000)\n",
    "plt.savefig(\"VDF_grain_o.pdf\")"
   ]
  },
  {
   "cell_type": "code",
   "execution_count": 58,
   "metadata": {},
   "outputs": [
    {
     "name": "stderr",
     "output_type": "stream",
     "text": [
      "Traceback (most recent call last):\n",
      "  File \"/home/anderscm/miniconda3/envs/pyxem142/lib/python3.9/site-packages/matplotlib/cbook/__init__.py\", line 287, in process\n",
      "    func(*args, **kwargs)\n",
      "  File \"/home/anderscm/miniconda3/envs/pyxem142/lib/python3.9/site-packages/hyperspy/drawing/figure.py\", line 68, in _on_blit_draw\n",
      "    self._background = fig.canvas.copy_from_bbox(fig.bbox)\n",
      "AttributeError: 'FigureCanvasPdf' object has no attribute 'copy_from_bbox'\n"
     ]
    }
   ],
   "source": [
    "plot(roi_w,3000,13000)\n",
    "plt.savefig(\"VDF_grain_w.pdf\")"
   ]
  },
  {
   "cell_type": "code",
   "execution_count": 47,
   "metadata": {},
   "outputs": [
    {
     "name": "stderr",
     "output_type": "stream",
     "text": [
      "Traceback (most recent call last):\n",
      "  File \"/home/anderscm/miniconda3/envs/pyxem142/lib/python3.9/site-packages/matplotlib/cbook/__init__.py\", line 287, in process\n",
      "    func(*args, **kwargs)\n",
      "  File \"/home/anderscm/miniconda3/envs/pyxem142/lib/python3.9/site-packages/hyperspy/drawing/figure.py\", line 68, in _on_blit_draw\n",
      "    self._background = fig.canvas.copy_from_bbox(fig.bbox)\n",
      "AttributeError: 'FigureCanvasPdf' object has no attribute 'copy_from_bbox'\n"
     ]
    }
   ],
   "source": [
    "plot(roi_r,0,5000)\n",
    "plt.savefig(\"VDF_grain_r.pdf\")"
   ]
  },
  {
   "cell_type": "code",
   "execution_count": 45,
   "metadata": {},
   "outputs": [
    {
     "name": "stderr",
     "output_type": "stream",
     "text": [
      "Traceback (most recent call last):\n",
      "  File \"/home/anderscm/miniconda3/envs/pyxem142/lib/python3.9/site-packages/matplotlib/cbook/__init__.py\", line 287, in process\n",
      "    func(*args, **kwargs)\n",
      "  File \"/home/anderscm/miniconda3/envs/pyxem142/lib/python3.9/site-packages/hyperspy/drawing/figure.py\", line 68, in _on_blit_draw\n",
      "    self._background = fig.canvas.copy_from_bbox(fig.bbox)\n",
      "AttributeError: 'FigureCanvasPdf' object has no attribute 'copy_from_bbox'\n"
     ]
    }
   ],
   "source": [
    "plot(roi_p,0,5000)\n",
    "plt.savefig(\"VDF_grain_p.pdf\")"
   ]
  },
  {
   "cell_type": "code",
   "execution_count": 42,
   "metadata": {},
   "outputs": [
    {
     "name": "stderr",
     "output_type": "stream",
     "text": [
      "Traceback (most recent call last):\n",
      "  File \"/home/anderscm/miniconda3/envs/pyxem142/lib/python3.9/site-packages/matplotlib/cbook/__init__.py\", line 287, in process\n",
      "    func(*args, **kwargs)\n",
      "  File \"/home/anderscm/miniconda3/envs/pyxem142/lib/python3.9/site-packages/hyperspy/drawing/figure.py\", line 68, in _on_blit_draw\n",
      "    self._background = fig.canvas.copy_from_bbox(fig.bbox)\n",
      "AttributeError: 'FigureCanvasPdf' object has no attribute 'copy_from_bbox'\n"
     ]
    }
   ],
   "source": [
    "plot(roi_m,0,5000)\n",
    "plt.savefig(\"VDF_grain_m.pdf\")"
   ]
  },
  {
   "cell_type": "code",
   "execution_count": 36,
   "metadata": {},
   "outputs": [
    {
     "name": "stderr",
     "output_type": "stream",
     "text": [
      "Traceback (most recent call last):\n",
      "  File \"/home/anderscm/miniconda3/envs/pyxem142/lib/python3.9/site-packages/matplotlib/cbook/__init__.py\", line 287, in process\n",
      "    func(*args, **kwargs)\n",
      "  File \"/home/anderscm/miniconda3/envs/pyxem142/lib/python3.9/site-packages/hyperspy/drawing/figure.py\", line 68, in _on_blit_draw\n",
      "    self._background = fig.canvas.copy_from_bbox(fig.bbox)\n",
      "AttributeError: 'FigureCanvasPdf' object has no attribute 'copy_from_bbox'\n"
     ]
    }
   ],
   "source": [
    "plot(roi_f,0,8000)\n",
    "plt.savefig(\"VDF_grain_f.pdf\")"
   ]
  },
  {
   "cell_type": "code",
   "execution_count": 38,
   "metadata": {},
   "outputs": [
    {
     "name": "stderr",
     "output_type": "stream",
     "text": [
      "Traceback (most recent call last):\n",
      "  File \"/home/anderscm/miniconda3/envs/pyxem142/lib/python3.9/site-packages/matplotlib/cbook/__init__.py\", line 287, in process\n",
      "    func(*args, **kwargs)\n",
      "  File \"/home/anderscm/miniconda3/envs/pyxem142/lib/python3.9/site-packages/hyperspy/drawing/figure.py\", line 68, in _on_blit_draw\n",
      "    self._background = fig.canvas.copy_from_bbox(fig.bbox)\n",
      "AttributeError: 'FigureCanvasPdf' object has no attribute 'copy_from_bbox'\n"
     ]
    }
   ],
   "source": [
    "plot(roi_a,0,8000)\n",
    "plt.savefig(\"VDF_grain_a.pdf\")"
   ]
  },
  {
   "cell_type": "code",
   "execution_count": null,
   "metadata": {},
   "outputs": [],
   "source": []
  }
 ],
 "metadata": {
  "kernelspec": {
   "display_name": "pyxem142",
   "language": "python",
   "name": "python3"
  },
  "language_info": {
   "codemirror_mode": {
    "name": "ipython",
    "version": 3
   },
   "file_extension": ".py",
   "mimetype": "text/x-python",
   "name": "python",
   "nbconvert_exporter": "python",
   "pygments_lexer": "ipython3",
   "version": "3.9.13"
  },
  "orig_nbformat": 4
 },
 "nbformat": 4,
 "nbformat_minor": 2
}
